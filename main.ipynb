{
 "cells": [
  {
   "cell_type": "markdown",
   "id": "14f814c6",
   "metadata": {
    "papermill": {
     "duration": 0.006444,
     "end_time": "2025-07-29T16:34:16.273845",
     "exception": false,
     "start_time": "2025-07-29T16:34:16.267401",
     "status": "completed"
    },
    "tags": []
   },
   "source": [
    "This script help me to find the path"
   ]
  },
  {
   "cell_type": "code",
   "execution_count": 1,
   "id": "0892603b",
   "metadata": {
    "_cell_guid": "b1076dfc-b9ad-4769-8c92-a6c4dae69d19",
    "_uuid": "8f2839f25d086af736a60e9eeb907d3b93b6e0e5",
    "execution": {
     "iopub.execute_input": "2025-07-29T16:34:16.286711Z",
     "iopub.status.busy": "2025-07-29T16:34:16.286358Z",
     "iopub.status.idle": "2025-07-29T16:34:18.467865Z",
     "shell.execute_reply": "2025-07-29T16:34:18.466393Z"
    },
    "papermill": {
     "duration": 2.189886,
     "end_time": "2025-07-29T16:34:18.469598",
     "exception": false,
     "start_time": "2025-07-29T16:34:16.279712",
     "status": "completed"
    },
    "tags": []
   },
   "outputs": [
    {
     "name": "stdout",
     "output_type": "stream",
     "text": [
      "/kaggle/input/netflix-tv-shows-and-movies/Netflix.csv\n"
     ]
    }
   ],
   "source": [
    "# This Python 3 environment comes with many helpful analytics libraries installed\n",
    "# It is defined by the kaggle/python Docker image: https://github.com/kaggle/docker-python\n",
    "# For example, here's several helpful packages to load\n",
    "\n",
    "import numpy as np # linear algebra\n",
    "import pandas as pd # data processing, CSV file I/O (e.g. pd.read_csv)\n",
    "\n",
    "# Input data files are available in the read-only \"../input/\" directory\n",
    "# For example, running this (by clicking run or pressing Shift+Enter) will list all files under the input directory\n",
    "\n",
    "import os\n",
    "for dirname, _, filenames in os.walk('/kaggle/input'):\n",
    "    for filename in filenames:\n",
    "        print(os.path.join(dirname, filename))\n",
    "\n",
    "# You can write up to 20GB to the current directory (/kaggle/working/) that gets preserved as output when you create a version using \"Save & Run All\" \n",
    "# You can also write temporary files to /kaggle/temp/, but they won't be saved outside of the current session"
   ]
  },
  {
   "cell_type": "markdown",
   "id": "c18dacd5",
   "metadata": {
    "papermill": {
     "duration": 0.005616,
     "end_time": "2025-07-29T16:34:18.481099",
     "exception": false,
     "start_time": "2025-07-29T16:34:18.475483",
     "status": "completed"
    },
    "tags": []
   },
   "source": [
    "# Load and see data"
   ]
  },
  {
   "cell_type": "code",
   "execution_count": 2,
   "id": "ecf83600",
   "metadata": {
    "execution": {
     "iopub.execute_input": "2025-07-29T16:34:18.493976Z",
     "iopub.status.busy": "2025-07-29T16:34:18.493175Z",
     "iopub.status.idle": "2025-07-29T16:34:18.521703Z",
     "shell.execute_reply": "2025-07-29T16:34:18.520618Z"
    },
    "papermill": {
     "duration": 0.036811,
     "end_time": "2025-07-29T16:34:18.523602",
     "exception": false,
     "start_time": "2025-07-29T16:34:18.486791",
     "status": "completed"
    },
    "tags": []
   },
   "outputs": [],
   "source": [
    "import pandas as pd \n",
    "import numpy as np \n",
    "\n",
    "df = pd.read_csv(\"/kaggle/input/netflix-tv-shows-and-movies/Netflix.csv\")"
   ]
  },
  {
   "cell_type": "code",
   "execution_count": 3,
   "id": "52485b9b",
   "metadata": {
    "execution": {
     "iopub.execute_input": "2025-07-29T16:34:18.537812Z",
     "iopub.status.busy": "2025-07-29T16:34:18.536865Z",
     "iopub.status.idle": "2025-07-29T16:34:18.566645Z",
     "shell.execute_reply": "2025-07-29T16:34:18.565735Z"
    },
    "papermill": {
     "duration": 0.038217,
     "end_time": "2025-07-29T16:34:18.568389",
     "exception": false,
     "start_time": "2025-07-29T16:34:18.530172",
     "status": "completed"
    },
    "tags": []
   },
   "outputs": [
    {
     "data": {
      "text/html": [
       "<div>\n",
       "<style scoped>\n",
       "    .dataframe tbody tr th:only-of-type {\n",
       "        vertical-align: middle;\n",
       "    }\n",
       "\n",
       "    .dataframe tbody tr th {\n",
       "        vertical-align: top;\n",
       "    }\n",
       "\n",
       "    .dataframe thead th {\n",
       "        text-align: right;\n",
       "    }\n",
       "</style>\n",
       "<table border=\"1\" class=\"dataframe\">\n",
       "  <thead>\n",
       "    <tr style=\"text-align: right;\">\n",
       "      <th></th>\n",
       "      <th>show_id</th>\n",
       "      <th>type</th>\n",
       "      <th>title</th>\n",
       "      <th>director</th>\n",
       "      <th>cast</th>\n",
       "      <th>country</th>\n",
       "      <th>date_added</th>\n",
       "      <th>release_year</th>\n",
       "      <th>rating</th>\n",
       "      <th>duration</th>\n",
       "      <th>listed_in</th>\n",
       "      <th>description</th>\n",
       "    </tr>\n",
       "  </thead>\n",
       "  <tbody>\n",
       "    <tr>\n",
       "      <th>0</th>\n",
       "      <td>s1</td>\n",
       "      <td>Movie</td>\n",
       "      <td>Dick Johnson Is Dead</td>\n",
       "      <td>Kirsten Johnson</td>\n",
       "      <td>NaN</td>\n",
       "      <td>United States</td>\n",
       "      <td>25-Sep-21</td>\n",
       "      <td>2020</td>\n",
       "      <td>PG-13</td>\n",
       "      <td>90 min</td>\n",
       "      <td>Documentaries</td>\n",
       "      <td>As her father nears the end of his life, filmm...</td>\n",
       "    </tr>\n",
       "    <tr>\n",
       "      <th>1</th>\n",
       "      <td>s2</td>\n",
       "      <td>TV Show</td>\n",
       "      <td>Blood &amp; Water</td>\n",
       "      <td>NaN</td>\n",
       "      <td>Ama Qamata, Khosi Ngema, Gail Mabalane, Thaban...</td>\n",
       "      <td>South Africa</td>\n",
       "      <td>24-Sep-21</td>\n",
       "      <td>2021</td>\n",
       "      <td>TV-MA</td>\n",
       "      <td>2 Seasons</td>\n",
       "      <td>International TV Shows, TV Dramas, TV Mysteries</td>\n",
       "      <td>After crossing paths at a party, a Cape Town t...</td>\n",
       "    </tr>\n",
       "    <tr>\n",
       "      <th>2</th>\n",
       "      <td>s3</td>\n",
       "      <td>TV Show</td>\n",
       "      <td>Ganglands</td>\n",
       "      <td>Julien Leclercq</td>\n",
       "      <td>Sami Bouajila, Tracy Gotoas, Samuel Jouy, Nabi...</td>\n",
       "      <td>NaN</td>\n",
       "      <td>24-Sep-21</td>\n",
       "      <td>2021</td>\n",
       "      <td>TV-MA</td>\n",
       "      <td>1 Season</td>\n",
       "      <td>Crime TV Shows, International TV Shows, TV Act...</td>\n",
       "      <td>To protect his family from a powerful drug lor...</td>\n",
       "    </tr>\n",
       "    <tr>\n",
       "      <th>3</th>\n",
       "      <td>s4</td>\n",
       "      <td>TV Show</td>\n",
       "      <td>Jailbirds New Orleans</td>\n",
       "      <td>NaN</td>\n",
       "      <td>NaN</td>\n",
       "      <td>NaN</td>\n",
       "      <td>24-Sep-21</td>\n",
       "      <td>2021</td>\n",
       "      <td>TV-MA</td>\n",
       "      <td>1 Season</td>\n",
       "      <td>Docuseries, Reality TV</td>\n",
       "      <td>Feuds, flirtations and toilet talk go down amo...</td>\n",
       "    </tr>\n",
       "    <tr>\n",
       "      <th>4</th>\n",
       "      <td>s5</td>\n",
       "      <td>TV Show</td>\n",
       "      <td>Kota Factory</td>\n",
       "      <td>NaN</td>\n",
       "      <td>Mayur More, Jitendra Kumar, Ranjan Raj, Alam K...</td>\n",
       "      <td>India</td>\n",
       "      <td>24-Sep-21</td>\n",
       "      <td>2021</td>\n",
       "      <td>TV-MA</td>\n",
       "      <td>2 Seasons</td>\n",
       "      <td>International TV Shows, Romantic TV Shows, TV ...</td>\n",
       "      <td>In a city of coaching centers known to train I...</td>\n",
       "    </tr>\n",
       "  </tbody>\n",
       "</table>\n",
       "</div>"
      ],
      "text/plain": [
       "  show_id     type                  title         director  \\\n",
       "0      s1    Movie   Dick Johnson Is Dead  Kirsten Johnson   \n",
       "1      s2  TV Show          Blood & Water              NaN   \n",
       "2      s3  TV Show              Ganglands  Julien Leclercq   \n",
       "3      s4  TV Show  Jailbirds New Orleans              NaN   \n",
       "4      s5  TV Show           Kota Factory              NaN   \n",
       "\n",
       "                                                cast        country  \\\n",
       "0                                                NaN  United States   \n",
       "1  Ama Qamata, Khosi Ngema, Gail Mabalane, Thaban...   South Africa   \n",
       "2  Sami Bouajila, Tracy Gotoas, Samuel Jouy, Nabi...            NaN   \n",
       "3                                                NaN            NaN   \n",
       "4  Mayur More, Jitendra Kumar, Ranjan Raj, Alam K...          India   \n",
       "\n",
       "  date_added  release_year rating   duration  \\\n",
       "0  25-Sep-21          2020  PG-13     90 min   \n",
       "1  24-Sep-21          2021  TV-MA  2 Seasons   \n",
       "2  24-Sep-21          2021  TV-MA   1 Season   \n",
       "3  24-Sep-21          2021  TV-MA   1 Season   \n",
       "4  24-Sep-21          2021  TV-MA  2 Seasons   \n",
       "\n",
       "                                           listed_in  \\\n",
       "0                                      Documentaries   \n",
       "1    International TV Shows, TV Dramas, TV Mysteries   \n",
       "2  Crime TV Shows, International TV Shows, TV Act...   \n",
       "3                             Docuseries, Reality TV   \n",
       "4  International TV Shows, Romantic TV Shows, TV ...   \n",
       "\n",
       "                                         description  \n",
       "0  As her father nears the end of his life, filmm...  \n",
       "1  After crossing paths at a party, a Cape Town t...  \n",
       "2  To protect his family from a powerful drug lor...  \n",
       "3  Feuds, flirtations and toilet talk go down amo...  \n",
       "4  In a city of coaching centers known to train I...  "
      ]
     },
     "execution_count": 3,
     "metadata": {},
     "output_type": "execute_result"
    }
   ],
   "source": [
    "df.head()"
   ]
  },
  {
   "cell_type": "code",
   "execution_count": 4,
   "id": "8a4e9650",
   "metadata": {
    "execution": {
     "iopub.execute_input": "2025-07-29T16:34:18.581829Z",
     "iopub.status.busy": "2025-07-29T16:34:18.581423Z",
     "iopub.status.idle": "2025-07-29T16:34:18.609000Z",
     "shell.execute_reply": "2025-07-29T16:34:18.607830Z"
    },
    "papermill": {
     "duration": 0.036076,
     "end_time": "2025-07-29T16:34:18.610675",
     "exception": false,
     "start_time": "2025-07-29T16:34:18.574599",
     "status": "completed"
    },
    "tags": []
   },
   "outputs": [
    {
     "name": "stdout",
     "output_type": "stream",
     "text": [
      "<class 'pandas.core.frame.DataFrame'>\n",
      "RangeIndex: 200 entries, 0 to 199\n",
      "Data columns (total 12 columns):\n",
      " #   Column        Non-Null Count  Dtype \n",
      "---  ------        --------------  ----- \n",
      " 0   show_id       200 non-null    object\n",
      " 1   type          200 non-null    object\n",
      " 2   title         200 non-null    object\n",
      " 3   director      137 non-null    object\n",
      " 4   cast          180 non-null    object\n",
      " 5   country       136 non-null    object\n",
      " 6   date_added    200 non-null    object\n",
      " 7   release_year  200 non-null    int64 \n",
      " 8   rating        200 non-null    object\n",
      " 9   duration      200 non-null    object\n",
      " 10  listed_in     200 non-null    object\n",
      " 11  description   200 non-null    object\n",
      "dtypes: int64(1), object(11)\n",
      "memory usage: 18.9+ KB\n"
     ]
    }
   ],
   "source": [
    "df.info()"
   ]
  },
  {
   "cell_type": "code",
   "execution_count": 5,
   "id": "574d68a6",
   "metadata": {
    "execution": {
     "iopub.execute_input": "2025-07-29T16:34:18.625043Z",
     "iopub.status.busy": "2025-07-29T16:34:18.624221Z",
     "iopub.status.idle": "2025-07-29T16:34:18.669267Z",
     "shell.execute_reply": "2025-07-29T16:34:18.668362Z"
    },
    "papermill": {
     "duration": 0.053432,
     "end_time": "2025-07-29T16:34:18.670953",
     "exception": false,
     "start_time": "2025-07-29T16:34:18.617521",
     "status": "completed"
    },
    "tags": []
   },
   "outputs": [
    {
     "name": "stderr",
     "output_type": "stream",
     "text": [
      "/usr/local/lib/python3.11/dist-packages/pandas/io/formats/format.py:1458: RuntimeWarning: invalid value encountered in greater\n",
      "  has_large_values = (abs_vals > 1e6).any()\n",
      "/usr/local/lib/python3.11/dist-packages/pandas/io/formats/format.py:1459: RuntimeWarning: invalid value encountered in less\n",
      "  has_small_values = ((abs_vals < 10 ** (-self.digits)) & (abs_vals > 0)).any()\n",
      "/usr/local/lib/python3.11/dist-packages/pandas/io/formats/format.py:1459: RuntimeWarning: invalid value encountered in greater\n",
      "  has_small_values = ((abs_vals < 10 ** (-self.digits)) & (abs_vals > 0)).any()\n"
     ]
    },
    {
     "data": {
      "text/html": [
       "<div>\n",
       "<style scoped>\n",
       "    .dataframe tbody tr th:only-of-type {\n",
       "        vertical-align: middle;\n",
       "    }\n",
       "\n",
       "    .dataframe tbody tr th {\n",
       "        vertical-align: top;\n",
       "    }\n",
       "\n",
       "    .dataframe thead th {\n",
       "        text-align: right;\n",
       "    }\n",
       "</style>\n",
       "<table border=\"1\" class=\"dataframe\">\n",
       "  <thead>\n",
       "    <tr style=\"text-align: right;\">\n",
       "      <th></th>\n",
       "      <th>show_id</th>\n",
       "      <th>type</th>\n",
       "      <th>title</th>\n",
       "      <th>director</th>\n",
       "      <th>cast</th>\n",
       "      <th>country</th>\n",
       "      <th>date_added</th>\n",
       "      <th>release_year</th>\n",
       "      <th>rating</th>\n",
       "      <th>duration</th>\n",
       "      <th>listed_in</th>\n",
       "      <th>description</th>\n",
       "    </tr>\n",
       "  </thead>\n",
       "  <tbody>\n",
       "    <tr>\n",
       "      <th>count</th>\n",
       "      <td>200</td>\n",
       "      <td>200</td>\n",
       "      <td>200</td>\n",
       "      <td>137</td>\n",
       "      <td>180</td>\n",
       "      <td>136</td>\n",
       "      <td>200</td>\n",
       "      <td>200.000000</td>\n",
       "      <td>200</td>\n",
       "      <td>200</td>\n",
       "      <td>200</td>\n",
       "      <td>200</td>\n",
       "    </tr>\n",
       "    <tr>\n",
       "      <th>unique</th>\n",
       "      <td>200</td>\n",
       "      <td>2</td>\n",
       "      <td>200</td>\n",
       "      <td>123</td>\n",
       "      <td>179</td>\n",
       "      <td>44</td>\n",
       "      <td>26</td>\n",
       "      <td>NaN</td>\n",
       "      <td>10</td>\n",
       "      <td>71</td>\n",
       "      <td>97</td>\n",
       "      <td>199</td>\n",
       "    </tr>\n",
       "    <tr>\n",
       "      <th>top</th>\n",
       "      <td>s1</td>\n",
       "      <td>Movie</td>\n",
       "      <td>Dick Johnson Is Dead</td>\n",
       "      <td>Toshiya Shinohara</td>\n",
       "      <td>Vijay Sethupathi, Parthiban, Raashi Khanna</td>\n",
       "      <td>United States</td>\n",
       "      <td>1-Sep-21</td>\n",
       "      <td>NaN</td>\n",
       "      <td>TV-MA</td>\n",
       "      <td>1 Season</td>\n",
       "      <td>Action &amp; Adventure, Anime Features, Internatio...</td>\n",
       "      <td>A budding politician has devious plans to rise...</td>\n",
       "    </tr>\n",
       "    <tr>\n",
       "      <th>freq</th>\n",
       "      <td>1</td>\n",
       "      <td>127</td>\n",
       "      <td>1</td>\n",
       "      <td>4</td>\n",
       "      <td>2</td>\n",
       "      <td>50</td>\n",
       "      <td>56</td>\n",
       "      <td>NaN</td>\n",
       "      <td>50</td>\n",
       "      <td>43</td>\n",
       "      <td>12</td>\n",
       "      <td>2</td>\n",
       "    </tr>\n",
       "    <tr>\n",
       "      <th>mean</th>\n",
       "      <td>NaN</td>\n",
       "      <td>NaN</td>\n",
       "      <td>NaN</td>\n",
       "      <td>NaN</td>\n",
       "      <td>NaN</td>\n",
       "      <td>NaN</td>\n",
       "      <td>NaN</td>\n",
       "      <td>2012.230000</td>\n",
       "      <td>NaN</td>\n",
       "      <td>NaN</td>\n",
       "      <td>NaN</td>\n",
       "      <td>NaN</td>\n",
       "    </tr>\n",
       "    <tr>\n",
       "      <th>std</th>\n",
       "      <td>NaN</td>\n",
       "      <td>NaN</td>\n",
       "      <td>NaN</td>\n",
       "      <td>NaN</td>\n",
       "      <td>NaN</td>\n",
       "      <td>NaN</td>\n",
       "      <td>NaN</td>\n",
       "      <td>11.609089</td>\n",
       "      <td>NaN</td>\n",
       "      <td>NaN</td>\n",
       "      <td>NaN</td>\n",
       "      <td>NaN</td>\n",
       "    </tr>\n",
       "    <tr>\n",
       "      <th>min</th>\n",
       "      <td>NaN</td>\n",
       "      <td>NaN</td>\n",
       "      <td>NaN</td>\n",
       "      <td>NaN</td>\n",
       "      <td>NaN</td>\n",
       "      <td>NaN</td>\n",
       "      <td>NaN</td>\n",
       "      <td>1961.000000</td>\n",
       "      <td>NaN</td>\n",
       "      <td>NaN</td>\n",
       "      <td>NaN</td>\n",
       "      <td>NaN</td>\n",
       "    </tr>\n",
       "    <tr>\n",
       "      <th>25%</th>\n",
       "      <td>NaN</td>\n",
       "      <td>NaN</td>\n",
       "      <td>NaN</td>\n",
       "      <td>NaN</td>\n",
       "      <td>NaN</td>\n",
       "      <td>NaN</td>\n",
       "      <td>NaN</td>\n",
       "      <td>2005.750000</td>\n",
       "      <td>NaN</td>\n",
       "      <td>NaN</td>\n",
       "      <td>NaN</td>\n",
       "      <td>NaN</td>\n",
       "    </tr>\n",
       "    <tr>\n",
       "      <th>50%</th>\n",
       "      <td>NaN</td>\n",
       "      <td>NaN</td>\n",
       "      <td>NaN</td>\n",
       "      <td>NaN</td>\n",
       "      <td>NaN</td>\n",
       "      <td>NaN</td>\n",
       "      <td>NaN</td>\n",
       "      <td>2018.000000</td>\n",
       "      <td>NaN</td>\n",
       "      <td>NaN</td>\n",
       "      <td>NaN</td>\n",
       "      <td>NaN</td>\n",
       "    </tr>\n",
       "    <tr>\n",
       "      <th>75%</th>\n",
       "      <td>NaN</td>\n",
       "      <td>NaN</td>\n",
       "      <td>NaN</td>\n",
       "      <td>NaN</td>\n",
       "      <td>NaN</td>\n",
       "      <td>NaN</td>\n",
       "      <td>NaN</td>\n",
       "      <td>2021.000000</td>\n",
       "      <td>NaN</td>\n",
       "      <td>NaN</td>\n",
       "      <td>NaN</td>\n",
       "      <td>NaN</td>\n",
       "    </tr>\n",
       "    <tr>\n",
       "      <th>max</th>\n",
       "      <td>NaN</td>\n",
       "      <td>NaN</td>\n",
       "      <td>NaN</td>\n",
       "      <td>NaN</td>\n",
       "      <td>NaN</td>\n",
       "      <td>NaN</td>\n",
       "      <td>NaN</td>\n",
       "      <td>2021.000000</td>\n",
       "      <td>NaN</td>\n",
       "      <td>NaN</td>\n",
       "      <td>NaN</td>\n",
       "      <td>NaN</td>\n",
       "    </tr>\n",
       "  </tbody>\n",
       "</table>\n",
       "</div>"
      ],
      "text/plain": [
       "       show_id   type                 title           director  \\\n",
       "count      200    200                   200                137   \n",
       "unique     200      2                   200                123   \n",
       "top         s1  Movie  Dick Johnson Is Dead  Toshiya Shinohara   \n",
       "freq         1    127                     1                  4   \n",
       "mean       NaN    NaN                   NaN                NaN   \n",
       "std        NaN    NaN                   NaN                NaN   \n",
       "min        NaN    NaN                   NaN                NaN   \n",
       "25%        NaN    NaN                   NaN                NaN   \n",
       "50%        NaN    NaN                   NaN                NaN   \n",
       "75%        NaN    NaN                   NaN                NaN   \n",
       "max        NaN    NaN                   NaN                NaN   \n",
       "\n",
       "                                              cast        country date_added  \\\n",
       "count                                          180            136        200   \n",
       "unique                                         179             44         26   \n",
       "top     Vijay Sethupathi, Parthiban, Raashi Khanna  United States   1-Sep-21   \n",
       "freq                                             2             50         56   \n",
       "mean                                           NaN            NaN        NaN   \n",
       "std                                            NaN            NaN        NaN   \n",
       "min                                            NaN            NaN        NaN   \n",
       "25%                                            NaN            NaN        NaN   \n",
       "50%                                            NaN            NaN        NaN   \n",
       "75%                                            NaN            NaN        NaN   \n",
       "max                                            NaN            NaN        NaN   \n",
       "\n",
       "        release_year rating  duration  \\\n",
       "count     200.000000    200       200   \n",
       "unique           NaN     10        71   \n",
       "top              NaN  TV-MA  1 Season   \n",
       "freq             NaN     50        43   \n",
       "mean     2012.230000    NaN       NaN   \n",
       "std        11.609089    NaN       NaN   \n",
       "min      1961.000000    NaN       NaN   \n",
       "25%      2005.750000    NaN       NaN   \n",
       "50%      2018.000000    NaN       NaN   \n",
       "75%      2021.000000    NaN       NaN   \n",
       "max      2021.000000    NaN       NaN   \n",
       "\n",
       "                                                listed_in  \\\n",
       "count                                                 200   \n",
       "unique                                                 97   \n",
       "top     Action & Adventure, Anime Features, Internatio...   \n",
       "freq                                                   12   \n",
       "mean                                                  NaN   \n",
       "std                                                   NaN   \n",
       "min                                                   NaN   \n",
       "25%                                                   NaN   \n",
       "50%                                                   NaN   \n",
       "75%                                                   NaN   \n",
       "max                                                   NaN   \n",
       "\n",
       "                                              description  \n",
       "count                                                 200  \n",
       "unique                                                199  \n",
       "top     A budding politician has devious plans to rise...  \n",
       "freq                                                    2  \n",
       "mean                                                  NaN  \n",
       "std                                                   NaN  \n",
       "min                                                   NaN  \n",
       "25%                                                   NaN  \n",
       "50%                                                   NaN  \n",
       "75%                                                   NaN  \n",
       "max                                                   NaN  "
      ]
     },
     "execution_count": 5,
     "metadata": {},
     "output_type": "execute_result"
    }
   ],
   "source": [
    "df.describe(include=\"all\")"
   ]
  },
  {
   "cell_type": "code",
   "execution_count": 6,
   "id": "5238f2b9",
   "metadata": {
    "execution": {
     "iopub.execute_input": "2025-07-29T16:34:18.685223Z",
     "iopub.status.busy": "2025-07-29T16:34:18.684541Z",
     "iopub.status.idle": "2025-07-29T16:34:18.689917Z",
     "shell.execute_reply": "2025-07-29T16:34:18.689129Z"
    },
    "papermill": {
     "duration": 0.013808,
     "end_time": "2025-07-29T16:34:18.691255",
     "exception": false,
     "start_time": "2025-07-29T16:34:18.677447",
     "status": "completed"
    },
    "tags": []
   },
   "outputs": [
    {
     "data": {
      "text/plain": [
       "(200, 12)"
      ]
     },
     "execution_count": 6,
     "metadata": {},
     "output_type": "execute_result"
    }
   ],
   "source": [
    "df.shape"
   ]
  },
  {
   "cell_type": "markdown",
   "id": "d9cb8872",
   "metadata": {
    "papermill": {
     "duration": 0.005956,
     "end_time": "2025-07-29T16:34:18.703888",
     "exception": false,
     "start_time": "2025-07-29T16:34:18.697932",
     "status": "completed"
    },
    "tags": []
   },
   "source": [
    "I can tell you only 200 records is not enough "
   ]
  },
  {
   "cell_type": "markdown",
   "id": "407d2532",
   "metadata": {
    "papermill": {
     "duration": 0.006641,
     "end_time": "2025-07-29T16:34:18.716714",
     "exception": false,
     "start_time": "2025-07-29T16:34:18.710073",
     "status": "completed"
    },
    "tags": []
   },
   "source": [
    "# Data Cleaning"
   ]
  },
  {
   "cell_type": "code",
   "execution_count": 7,
   "id": "021d2ef8",
   "metadata": {
    "execution": {
     "iopub.execute_input": "2025-07-29T16:34:18.731066Z",
     "iopub.status.busy": "2025-07-29T16:34:18.730178Z",
     "iopub.status.idle": "2025-07-29T16:34:18.737589Z",
     "shell.execute_reply": "2025-07-29T16:34:18.736332Z"
    },
    "papermill": {
     "duration": 0.01596,
     "end_time": "2025-07-29T16:34:18.739038",
     "exception": false,
     "start_time": "2025-07-29T16:34:18.723078",
     "status": "completed"
    },
    "tags": []
   },
   "outputs": [
    {
     "name": "stdout",
     "output_type": "stream",
     "text": [
      "show_id          0\n",
      "type             0\n",
      "title            0\n",
      "director        63\n",
      "cast            20\n",
      "country         64\n",
      "date_added       0\n",
      "release_year     0\n",
      "rating           0\n",
      "duration         0\n",
      "listed_in        0\n",
      "description      0\n",
      "dtype: int64\n"
     ]
    }
   ],
   "source": [
    "missing_values = df.isna().sum()\n",
    "print(missing_values)"
   ]
  },
  {
   "cell_type": "markdown",
   "id": "9eaeff51",
   "metadata": {
    "papermill": {
     "duration": 0.005911,
     "end_time": "2025-07-29T16:34:18.751462",
     "exception": false,
     "start_time": "2025-07-29T16:34:18.745551",
     "status": "completed"
    },
    "tags": []
   },
   "source": [
    "cast, director and country have a lot of null value. We can not just drop them because they consist large portion of the data"
   ]
  },
  {
   "cell_type": "code",
   "execution_count": 8,
   "id": "c9e7e166",
   "metadata": {
    "execution": {
     "iopub.execute_input": "2025-07-29T16:34:18.765159Z",
     "iopub.status.busy": "2025-07-29T16:34:18.764820Z",
     "iopub.status.idle": "2025-07-29T16:34:18.771910Z",
     "shell.execute_reply": "2025-07-29T16:34:18.770900Z"
    },
    "papermill": {
     "duration": 0.015812,
     "end_time": "2025-07-29T16:34:18.773438",
     "exception": false,
     "start_time": "2025-07-29T16:34:18.757626",
     "status": "completed"
    },
    "tags": []
   },
   "outputs": [],
   "source": [
    "df.fillna({\n",
    "  'director': 'Unknown',\n",
    "  'cast': 'Unknown',\n",
    "  'country': 'Unknown'\n",
    "}, inplace=True)"
   ]
  },
  {
   "cell_type": "markdown",
   "id": "b4d4cef3",
   "metadata": {
    "papermill": {
     "duration": 0.006135,
     "end_time": "2025-07-29T16:34:18.786182",
     "exception": false,
     "start_time": "2025-07-29T16:34:18.780047",
     "status": "completed"
    },
    "tags": []
   },
   "source": [
    "For easier workflow, We convert date column to this. "
   ]
  },
  {
   "cell_type": "code",
   "execution_count": 9,
   "id": "bb531728",
   "metadata": {
    "execution": {
     "iopub.execute_input": "2025-07-29T16:34:18.800445Z",
     "iopub.status.busy": "2025-07-29T16:34:18.800066Z",
     "iopub.status.idle": "2025-07-29T16:34:18.814542Z",
     "shell.execute_reply": "2025-07-29T16:34:18.813584Z"
    },
    "papermill": {
     "duration": 0.023501,
     "end_time": "2025-07-29T16:34:18.816117",
     "exception": false,
     "start_time": "2025-07-29T16:34:18.792616",
     "status": "completed"
    },
    "tags": []
   },
   "outputs": [
    {
     "name": "stderr",
     "output_type": "stream",
     "text": [
      "/tmp/ipykernel_13/1161208757.py:1: UserWarning: Could not infer format, so each element will be parsed individually, falling back to `dateutil`. To ensure parsing is consistent and as-expected, please specify a format.\n",
      "  df['date_added'] = pd.to_datetime(df['date_added'])\n"
     ]
    }
   ],
   "source": [
    "df['date_added'] = pd.to_datetime(df['date_added'])\n",
    "df['year_added'] = df['date_added'].dt.year\n",
    "df['month_added'] = df['date_added'].dt.month_name()\n"
   ]
  },
  {
   "cell_type": "markdown",
   "id": "ee847b1c",
   "metadata": {
    "papermill": {
     "duration": 0.006534,
     "end_time": "2025-07-29T16:34:18.829210",
     "exception": false,
     "start_time": "2025-07-29T16:34:18.822676",
     "status": "completed"
    },
    "tags": []
   },
   "source": [
    "Parsing duration cleanly"
   ]
  },
  {
   "cell_type": "code",
   "execution_count": 10,
   "id": "64ed19ef",
   "metadata": {
    "execution": {
     "iopub.execute_input": "2025-07-29T16:34:18.843485Z",
     "iopub.status.busy": "2025-07-29T16:34:18.843144Z",
     "iopub.status.idle": "2025-07-29T16:34:18.849726Z",
     "shell.execute_reply": "2025-07-29T16:34:18.848934Z"
    },
    "papermill": {
     "duration": 0.015496,
     "end_time": "2025-07-29T16:34:18.851240",
     "exception": false,
     "start_time": "2025-07-29T16:34:18.835744",
     "status": "completed"
    },
    "tags": []
   },
   "outputs": [],
   "source": [
    "df['duration_int'] = df['duration'].str.extract('(\\d+)').astype(int)\n"
   ]
  },
  {
   "cell_type": "code",
   "execution_count": 11,
   "id": "2237adee",
   "metadata": {
    "execution": {
     "iopub.execute_input": "2025-07-29T16:34:18.865831Z",
     "iopub.status.busy": "2025-07-29T16:34:18.865535Z",
     "iopub.status.idle": "2025-07-29T16:34:18.880291Z",
     "shell.execute_reply": "2025-07-29T16:34:18.879395Z"
    },
    "papermill": {
     "duration": 0.023869,
     "end_time": "2025-07-29T16:34:18.881936",
     "exception": false,
     "start_time": "2025-07-29T16:34:18.858067",
     "status": "completed"
    },
    "tags": []
   },
   "outputs": [
    {
     "data": {
      "text/html": [
       "<div>\n",
       "<style scoped>\n",
       "    .dataframe tbody tr th:only-of-type {\n",
       "        vertical-align: middle;\n",
       "    }\n",
       "\n",
       "    .dataframe tbody tr th {\n",
       "        vertical-align: top;\n",
       "    }\n",
       "\n",
       "    .dataframe thead th {\n",
       "        text-align: right;\n",
       "    }\n",
       "</style>\n",
       "<table border=\"1\" class=\"dataframe\">\n",
       "  <thead>\n",
       "    <tr style=\"text-align: right;\">\n",
       "      <th></th>\n",
       "      <th>show_id</th>\n",
       "      <th>type</th>\n",
       "      <th>title</th>\n",
       "      <th>director</th>\n",
       "      <th>cast</th>\n",
       "      <th>country</th>\n",
       "      <th>date_added</th>\n",
       "      <th>release_year</th>\n",
       "      <th>rating</th>\n",
       "      <th>duration</th>\n",
       "      <th>listed_in</th>\n",
       "      <th>description</th>\n",
       "      <th>year_added</th>\n",
       "      <th>month_added</th>\n",
       "      <th>duration_int</th>\n",
       "    </tr>\n",
       "  </thead>\n",
       "  <tbody>\n",
       "    <tr>\n",
       "      <th>0</th>\n",
       "      <td>s1</td>\n",
       "      <td>Movie</td>\n",
       "      <td>Dick Johnson Is Dead</td>\n",
       "      <td>Kirsten Johnson</td>\n",
       "      <td>Unknown</td>\n",
       "      <td>United States</td>\n",
       "      <td>2021-09-25</td>\n",
       "      <td>2020</td>\n",
       "      <td>PG-13</td>\n",
       "      <td>90 min</td>\n",
       "      <td>Documentaries</td>\n",
       "      <td>As her father nears the end of his life, filmm...</td>\n",
       "      <td>2021</td>\n",
       "      <td>September</td>\n",
       "      <td>90</td>\n",
       "    </tr>\n",
       "    <tr>\n",
       "      <th>1</th>\n",
       "      <td>s2</td>\n",
       "      <td>TV Show</td>\n",
       "      <td>Blood &amp; Water</td>\n",
       "      <td>Unknown</td>\n",
       "      <td>Ama Qamata, Khosi Ngema, Gail Mabalane, Thaban...</td>\n",
       "      <td>South Africa</td>\n",
       "      <td>2021-09-24</td>\n",
       "      <td>2021</td>\n",
       "      <td>TV-MA</td>\n",
       "      <td>2 Seasons</td>\n",
       "      <td>International TV Shows, TV Dramas, TV Mysteries</td>\n",
       "      <td>After crossing paths at a party, a Cape Town t...</td>\n",
       "      <td>2021</td>\n",
       "      <td>September</td>\n",
       "      <td>2</td>\n",
       "    </tr>\n",
       "    <tr>\n",
       "      <th>2</th>\n",
       "      <td>s3</td>\n",
       "      <td>TV Show</td>\n",
       "      <td>Ganglands</td>\n",
       "      <td>Julien Leclercq</td>\n",
       "      <td>Sami Bouajila, Tracy Gotoas, Samuel Jouy, Nabi...</td>\n",
       "      <td>Unknown</td>\n",
       "      <td>2021-09-24</td>\n",
       "      <td>2021</td>\n",
       "      <td>TV-MA</td>\n",
       "      <td>1 Season</td>\n",
       "      <td>Crime TV Shows, International TV Shows, TV Act...</td>\n",
       "      <td>To protect his family from a powerful drug lor...</td>\n",
       "      <td>2021</td>\n",
       "      <td>September</td>\n",
       "      <td>1</td>\n",
       "    </tr>\n",
       "    <tr>\n",
       "      <th>3</th>\n",
       "      <td>s4</td>\n",
       "      <td>TV Show</td>\n",
       "      <td>Jailbirds New Orleans</td>\n",
       "      <td>Unknown</td>\n",
       "      <td>Unknown</td>\n",
       "      <td>Unknown</td>\n",
       "      <td>2021-09-24</td>\n",
       "      <td>2021</td>\n",
       "      <td>TV-MA</td>\n",
       "      <td>1 Season</td>\n",
       "      <td>Docuseries, Reality TV</td>\n",
       "      <td>Feuds, flirtations and toilet talk go down amo...</td>\n",
       "      <td>2021</td>\n",
       "      <td>September</td>\n",
       "      <td>1</td>\n",
       "    </tr>\n",
       "    <tr>\n",
       "      <th>4</th>\n",
       "      <td>s5</td>\n",
       "      <td>TV Show</td>\n",
       "      <td>Kota Factory</td>\n",
       "      <td>Unknown</td>\n",
       "      <td>Mayur More, Jitendra Kumar, Ranjan Raj, Alam K...</td>\n",
       "      <td>India</td>\n",
       "      <td>2021-09-24</td>\n",
       "      <td>2021</td>\n",
       "      <td>TV-MA</td>\n",
       "      <td>2 Seasons</td>\n",
       "      <td>International TV Shows, Romantic TV Shows, TV ...</td>\n",
       "      <td>In a city of coaching centers known to train I...</td>\n",
       "      <td>2021</td>\n",
       "      <td>September</td>\n",
       "      <td>2</td>\n",
       "    </tr>\n",
       "  </tbody>\n",
       "</table>\n",
       "</div>"
      ],
      "text/plain": [
       "  show_id     type                  title         director  \\\n",
       "0      s1    Movie   Dick Johnson Is Dead  Kirsten Johnson   \n",
       "1      s2  TV Show          Blood & Water          Unknown   \n",
       "2      s3  TV Show              Ganglands  Julien Leclercq   \n",
       "3      s4  TV Show  Jailbirds New Orleans          Unknown   \n",
       "4      s5  TV Show           Kota Factory          Unknown   \n",
       "\n",
       "                                                cast        country  \\\n",
       "0                                            Unknown  United States   \n",
       "1  Ama Qamata, Khosi Ngema, Gail Mabalane, Thaban...   South Africa   \n",
       "2  Sami Bouajila, Tracy Gotoas, Samuel Jouy, Nabi...        Unknown   \n",
       "3                                            Unknown        Unknown   \n",
       "4  Mayur More, Jitendra Kumar, Ranjan Raj, Alam K...          India   \n",
       "\n",
       "  date_added  release_year rating   duration  \\\n",
       "0 2021-09-25          2020  PG-13     90 min   \n",
       "1 2021-09-24          2021  TV-MA  2 Seasons   \n",
       "2 2021-09-24          2021  TV-MA   1 Season   \n",
       "3 2021-09-24          2021  TV-MA   1 Season   \n",
       "4 2021-09-24          2021  TV-MA  2 Seasons   \n",
       "\n",
       "                                           listed_in  \\\n",
       "0                                      Documentaries   \n",
       "1    International TV Shows, TV Dramas, TV Mysteries   \n",
       "2  Crime TV Shows, International TV Shows, TV Act...   \n",
       "3                             Docuseries, Reality TV   \n",
       "4  International TV Shows, Romantic TV Shows, TV ...   \n",
       "\n",
       "                                         description  year_added month_added  \\\n",
       "0  As her father nears the end of his life, filmm...        2021   September   \n",
       "1  After crossing paths at a party, a Cape Town t...        2021   September   \n",
       "2  To protect his family from a powerful drug lor...        2021   September   \n",
       "3  Feuds, flirtations and toilet talk go down amo...        2021   September   \n",
       "4  In a city of coaching centers known to train I...        2021   September   \n",
       "\n",
       "   duration_int  \n",
       "0            90  \n",
       "1             2  \n",
       "2             1  \n",
       "3             1  \n",
       "4             2  "
      ]
     },
     "execution_count": 11,
     "metadata": {},
     "output_type": "execute_result"
    }
   ],
   "source": [
    "df.head()"
   ]
  },
  {
   "cell_type": "markdown",
   "id": "31115d91",
   "metadata": {
    "papermill": {
     "duration": 0.006397,
     "end_time": "2025-07-29T16:34:18.895656",
     "exception": false,
     "start_time": "2025-07-29T16:34:18.889259",
     "status": "completed"
    },
    "tags": []
   },
   "source": [
    "# EDA"
   ]
  },
  {
   "cell_type": "code",
   "execution_count": 12,
   "id": "71e0e104",
   "metadata": {
    "execution": {
     "iopub.execute_input": "2025-07-29T16:34:18.910461Z",
     "iopub.status.busy": "2025-07-29T16:34:18.910130Z",
     "iopub.status.idle": "2025-07-29T16:34:21.211771Z",
     "shell.execute_reply": "2025-07-29T16:34:21.210700Z"
    },
    "papermill": {
     "duration": 2.311179,
     "end_time": "2025-07-29T16:34:21.213355",
     "exception": false,
     "start_time": "2025-07-29T16:34:18.902176",
     "status": "completed"
    },
    "tags": []
   },
   "outputs": [
    {
     "data": {
      "text/plain": [
       "<Axes: xlabel='type', ylabel='count'>"
      ]
     },
     "execution_count": 12,
     "metadata": {},
     "output_type": "execute_result"
    },
    {
     "data": {
      "image/png": "[encoded data removed]",
      "text/plain": [
       "<Figure size 640x480 with 1 Axes>"
      ]
     },
     "metadata": {},
     "output_type": "display_data"
    }
   ],
   "source": [
    "import seaborn as sns\n",
    "import matplotlib.pyplot as plt\n",
    "\n",
    "sns.countplot(data=df, x='type')\n"
   ]
  },
  {
   "cell_type": "markdown",
   "id": "a88b74f8",
   "metadata": {
    "papermill": {
     "duration": 0.006792,
     "end_time": "2025-07-29T16:34:21.227575",
     "exception": false,
     "start_time": "2025-07-29T16:34:21.220783",
     "status": "completed"
    },
    "tags": []
   },
   "source": [
    "Most of the data are Movies"
   ]
  },
  {
   "cell_type": "code",
   "execution_count": 13,
   "id": "eb5146d6",
   "metadata": {
    "execution": {
     "iopub.execute_input": "2025-07-29T16:34:21.243066Z",
     "iopub.status.busy": "2025-07-29T16:34:21.242587Z",
     "iopub.status.idle": "2025-07-29T16:34:21.486790Z",
     "shell.execute_reply": "2025-07-29T16:34:21.485813Z"
    },
    "papermill": {
     "duration": 0.254282,
     "end_time": "2025-07-29T16:34:21.488768",
     "exception": false,
     "start_time": "2025-07-29T16:34:21.234486",
     "status": "completed"
    },
    "tags": []
   },
   "outputs": [
    {
     "data": {
      "text/plain": [
       "Text(0.5, 1.0, 'Number of titles added per year on Netflix')"
      ]
     },
     "execution_count": 13,
     "metadata": {},
     "output_type": "execute_result"
    },
    {
     "data": {
      "image/png": "[encoded data removed]",
      "text/plain": [
       "<Figure size 640x480 with 1 Axes>"
      ]
     },
     "metadata": {},
     "output_type": "display_data"
    }
   ],
   "source": [
    "yearly = df.groupby('year_added').size()\n",
    "yearly.plot(kind='bar')\n",
    "plt.title(\"Number of titles added per year on Netflix\")\n"
   ]
  },
  {
   "cell_type": "markdown",
   "id": "40ad95df",
   "metadata": {
    "papermill": {
     "duration": 0.008141,
     "end_time": "2025-07-29T16:34:21.505490",
     "exception": false,
     "start_time": "2025-07-29T16:34:21.497349",
     "status": "completed"
    },
    "tags": []
   },
   "source": [
    "Only 2021 data . "
   ]
  },
  {
   "cell_type": "code",
   "execution_count": 14,
   "id": "2c1a1268",
   "metadata": {
    "execution": {
     "iopub.execute_input": "2025-07-29T16:34:21.523654Z",
     "iopub.status.busy": "2025-07-29T16:34:21.523253Z",
     "iopub.status.idle": "2025-07-29T16:34:21.533031Z",
     "shell.execute_reply": "2025-07-29T16:34:21.532108Z"
    },
    "papermill": {
     "duration": 0.020823,
     "end_time": "2025-07-29T16:34:21.534612",
     "exception": false,
     "start_time": "2025-07-29T16:34:21.513789",
     "status": "completed"
    },
    "tags": []
   },
   "outputs": [
    {
     "data": {
      "text/plain": [
       "listed_in\n",
       "Dramas                    45\n",
       "International Movies      42\n",
       "Comedies                  41\n",
       "Action & Adventure        40\n",
       "International TV Shows    31\n",
       "Kids' TV                  22\n",
       "TV Comedies               20\n",
       "Thrillers                 17\n",
       "TV Dramas                 16\n",
       "Romantic Movies           15\n",
       "Name: count, dtype: int64"
      ]
     },
     "execution_count": 14,
     "metadata": {},
     "output_type": "execute_result"
    }
   ],
   "source": [
    "#most frequnt genres\n",
    "genres = df['listed_in'].str.split(', ').explode()\n",
    "genres.value_counts().head(10)\n"
   ]
  },
  {
   "cell_type": "code",
   "execution_count": 15,
   "id": "96c902f5",
   "metadata": {
    "execution": {
     "iopub.execute_input": "2025-07-29T16:34:21.552268Z",
     "iopub.status.busy": "2025-07-29T16:34:21.551937Z",
     "iopub.status.idle": "2025-07-29T16:34:21.804987Z",
     "shell.execute_reply": "2025-07-29T16:34:21.804004Z"
    },
    "papermill": {
     "duration": 0.263781,
     "end_time": "2025-07-29T16:34:21.807055",
     "exception": false,
     "start_time": "2025-07-29T16:34:21.543274",
     "status": "completed"
    },
    "tags": []
   },
   "outputs": [
    {
     "data": {
      "text/plain": [
       "<Axes: xlabel='rating', ylabel='count'>"
      ]
     },
     "execution_count": 15,
     "metadata": {},
     "output_type": "execute_result"
    },
    {
     "data": {
      "image/png": "[encoded data removed]",
      "text/plain": [
       "<Figure size 640x480 with 1 Axes>"
      ]
     },
     "metadata": {},
     "output_type": "display_data"
    }
   ],
   "source": [
    "#rating\n",
    "sns.countplot(data=df, x='rating', hue='type')\n"
   ]
  },
  {
   "cell_type": "markdown",
   "id": "1e78c561",
   "metadata": {
    "papermill": {
     "duration": 0.008261,
     "end_time": "2025-07-29T16:34:21.824290",
     "exception": false,
     "start_time": "2025-07-29T16:34:21.816029",
     "status": "completed"
    },
    "tags": []
   },
   "source": [
    "pg-13 , TV-MA , PG are the most frequent."
   ]
  },
  {
   "cell_type": "markdown",
   "id": "76918d78",
   "metadata": {
    "papermill": {
     "duration": 0.008597,
     "end_time": "2025-07-29T16:34:21.840772",
     "exception": false,
     "start_time": "2025-07-29T16:34:21.832175",
     "status": "completed"
    },
    "tags": []
   },
   "source": [
    "# Clustering / Content similarity"
   ]
  },
  {
   "cell_type": "markdown",
   "id": "0069ea07",
   "metadata": {
    "papermill": {
     "duration": 0.007677,
     "end_time": "2025-07-29T16:34:21.856539",
     "exception": false,
     "start_time": "2025-07-29T16:34:21.848862",
     "status": "completed"
    },
    "tags": []
   },
   "source": [
    "We need to choose our best option for Clustering with Kmeans. \n",
    "then lets see what do we have "
   ]
  },
  {
   "cell_type": "code",
   "execution_count": 16,
   "id": "c81bd2db",
   "metadata": {
    "execution": {
     "iopub.execute_input": "2025-07-29T16:34:21.873932Z",
     "iopub.status.busy": "2025-07-29T16:34:21.873538Z",
     "iopub.status.idle": "2025-07-29T16:34:21.880183Z",
     "shell.execute_reply": "2025-07-29T16:34:21.879208Z"
    },
    "papermill": {
     "duration": 0.017598,
     "end_time": "2025-07-29T16:34:21.882050",
     "exception": false,
     "start_time": "2025-07-29T16:34:21.864452",
     "status": "completed"
    },
    "tags": []
   },
   "outputs": [
    {
     "data": {
      "text/plain": [
       "['show_id',\n",
       " 'type',\n",
       " 'title',\n",
       " 'director',\n",
       " 'cast',\n",
       " 'country',\n",
       " 'date_added',\n",
       " 'release_year',\n",
       " 'rating',\n",
       " 'duration',\n",
       " 'listed_in',\n",
       " 'description',\n",
       " 'year_added',\n",
       " 'month_added',\n",
       " 'duration_int']"
      ]
     },
     "execution_count": 16,
     "metadata": {},
     "output_type": "execute_result"
    }
   ],
   "source": [
    "list(df.columns)"
   ]
  },
  {
   "cell_type": "markdown",
   "id": "869266e5",
   "metadata": {
    "papermill": {
     "duration": 0.007853,
     "end_time": "2025-07-29T16:34:21.898363",
     "exception": false,
     "start_time": "2025-07-29T16:34:21.890510",
     "status": "completed"
    },
    "tags": []
   },
   "source": [
    "## Feature Engineering for Clustering"
   ]
  },
  {
   "cell_type": "code",
   "execution_count": 17,
   "id": "e5a42dd7",
   "metadata": {
    "execution": {
     "iopub.execute_input": "2025-07-29T16:34:21.916262Z",
     "iopub.status.busy": "2025-07-29T16:34:21.915364Z",
     "iopub.status.idle": "2025-07-29T16:34:22.710805Z",
     "shell.execute_reply": "2025-07-29T16:34:22.709951Z"
    },
    "papermill": {
     "duration": 0.806047,
     "end_time": "2025-07-29T16:34:22.712440",
     "exception": false,
     "start_time": "2025-07-29T16:34:21.906393",
     "status": "completed"
    },
    "tags": []
   },
   "outputs": [],
   "source": [
    "from sklearn.preprocessing import StandardScaler, OneHotEncoder\n",
    "from sklearn.compose import ColumnTransformer\n",
    "from sklearn.pipeline import Pipeline\n",
    "from sklearn.cluster import KMeans\n",
    "from sklearn.decomposition import PCA\n",
    "import matplotlib.pyplot as plt\n",
    "import seaborn as sns\n",
    "\n",
    "# Copy the DataFrame to avoid modifying the original\n",
    "df_cluster = df.copy()\n",
    "\n",
    "# Choose features\n",
    "df_cluster = df_cluster[['type','duration_int', 'rating', 'listed_in']]\n",
    "\n",
    "# Simplify genre into top 10 frequent genres\n",
    "top_genres = df_cluster['listed_in'].str.split(', ').explode().value_counts().nlargest(10).index\n",
    "df_cluster['main_genre'] = df_cluster['listed_in'].apply(\n",
    "    lambda x: next((genre for genre in x.split(', ') if genre in top_genres), 'Other')\n",
    ")\n",
    "\n",
    "# Drop original column\n",
    "df_cluster = df_cluster.drop(columns='listed_in')\n"
   ]
  },
  {
   "cell_type": "code",
   "execution_count": 18,
   "id": "234a8e2a",
   "metadata": {
    "execution": {
     "iopub.execute_input": "2025-07-29T16:34:22.796498Z",
     "iopub.status.busy": "2025-07-29T16:34:22.795648Z",
     "iopub.status.idle": "2025-07-29T16:34:22.800745Z",
     "shell.execute_reply": "2025-07-29T16:34:22.799774Z"
    },
    "papermill": {
     "duration": 0.015348,
     "end_time": "2025-07-29T16:34:22.802223",
     "exception": false,
     "start_time": "2025-07-29T16:34:22.786875",
     "status": "completed"
    },
    "tags": []
   },
   "outputs": [
    {
     "name": "stdout",
     "output_type": "stream",
     "text": [
      "Index(['Dramas', 'International Movies', 'Comedies', 'Action & Adventure',\n",
      "       'International TV Shows', 'Kids' TV', 'TV Comedies', 'Thrillers',\n",
      "       'TV Dramas', 'Romantic Movies'],\n",
      "      dtype='object', name='listed_in')\n"
     ]
    }
   ],
   "source": [
    "print(top_genres)"
   ]
  },
  {
   "cell_type": "markdown",
   "id": "b85b5ae2",
   "metadata": {
    "papermill": {
     "duration": 0.007797,
     "end_time": "2025-07-29T16:34:22.818415",
     "exception": false,
     "start_time": "2025-07-29T16:34:22.810618",
     "status": "completed"
    },
    "tags": []
   },
   "source": [
    "Drams is the most frequent topic"
   ]
  },
  {
   "cell_type": "markdown",
   "id": "991be4ab",
   "metadata": {
    "papermill": {
     "duration": 0.00768,
     "end_time": "2025-07-29T16:34:22.834233",
     "exception": false,
     "start_time": "2025-07-29T16:34:22.826553",
     "status": "completed"
    },
    "tags": []
   },
   "source": [
    "## preprocessing "
   ]
  },
  {
   "cell_type": "code",
   "execution_count": 19,
   "id": "aeadfa55",
   "metadata": {
    "execution": {
     "iopub.execute_input": "2025-07-29T16:34:22.851800Z",
     "iopub.status.busy": "2025-07-29T16:34:22.851459Z",
     "iopub.status.idle": "2025-07-29T16:34:22.938143Z",
     "shell.execute_reply": "2025-07-29T16:34:22.935693Z"
    },
    "papermill": {
     "duration": 0.09799,
     "end_time": "2025-07-29T16:34:22.940385",
     "exception": false,
     "start_time": "2025-07-29T16:34:22.842395",
     "status": "completed"
    },
    "tags": []
   },
   "outputs": [
    {
     "name": "stderr",
     "output_type": "stream",
     "text": [
      "/usr/local/lib/python3.11/dist-packages/sklearn/cluster/_kmeans.py:870: FutureWarning: The default value of `n_init` will change from 10 to 'auto' in 1.4. Set the value of `n_init` explicitly to suppress the warning\n",
      "  warnings.warn(\n"
     ]
    }
   ],
   "source": [
    "# Define preprocessing for numerical and categorical columns\n",
    "numeric_features = ['duration_int']\n",
    "categorical_features = ['type', 'rating', 'main_genre']\n",
    "\n",
    "preprocessor = ColumnTransformer(transformers=[\n",
    "    ('num', StandardScaler(), numeric_features),\n",
    "    ('cat', OneHotEncoder(sparse_output=False), categorical_features) \n",
    "])\n",
    "\n",
    "# Create pipeline with KMeans\n",
    "pipeline = Pipeline(steps=[\n",
    "    ('preprocess', preprocessor),\n",
    "    ('cluster', KMeans(n_clusters=5, random_state=42))\n",
    "])\n",
    "\n",
    "# Fit the model\n",
    "pipeline.fit(df_cluster)\n",
    "\n",
    "# Add cluster labels to original df\n",
    "df['cluster'] = pipeline.named_steps['cluster'].labels_\n"
   ]
  },
  {
   "cell_type": "markdown",
   "id": "183825fa",
   "metadata": {
    "papermill": {
     "duration": 0.008787,
     "end_time": "2025-07-29T16:34:22.960893",
     "exception": false,
     "start_time": "2025-07-29T16:34:22.952106",
     "status": "completed"
    },
    "tags": []
   },
   "source": [
    "## Visualize with PCA"
   ]
  },
  {
   "cell_type": "code",
   "execution_count": 20,
   "id": "778245b9",
   "metadata": {
    "execution": {
     "iopub.execute_input": "2025-07-29T16:34:22.978463Z",
     "iopub.status.busy": "2025-07-29T16:34:22.978132Z",
     "iopub.status.idle": "2025-07-29T16:34:23.364849Z",
     "shell.execute_reply": "2025-07-29T16:34:23.363878Z"
    },
    "papermill": {
     "duration": 0.397609,
     "end_time": "2025-07-29T16:34:23.366486",
     "exception": false,
     "start_time": "2025-07-29T16:34:22.968877",
     "status": "completed"
    },
    "tags": []
   },
   "outputs": [
    {
     "data": {
      "image/png": "[encoded data removed]",
      "text/plain": [
       "<Figure size 1000x600 with 1 Axes>"
      ]
     },
     "metadata": {},
     "output_type": "display_data"
    }
   ],
   "source": [
    "# Apply PCA on preprocessed data to reduce dimensions to 2D\n",
    "from sklearn.decomposition import PCA\n",
    "\n",
    "X_preprocessed = preprocessor.fit_transform(df_cluster)\n",
    "pca = PCA(n_components=2)\n",
    "X_pca = pca.fit_transform(X_preprocessed)\n",
    "\n",
    "# Plot clusters\n",
    "plt.figure(figsize=(10, 6))\n",
    "sns.scatterplot(x=X_pca[:, 0], y=X_pca[:, 1], hue=df['cluster'], palette='tab10')\n",
    "plt.title('KMeans Clusters of Netflix Titles (2D PCA)')\n",
    "plt.xlabel('PCA Component 1')\n",
    "plt.ylabel('PCA Component 2')\n",
    "plt.legend(title='Cluster')\n",
    "plt.show()\n"
   ]
  },
  {
   "cell_type": "code",
   "execution_count": 21,
   "id": "aa222d5f",
   "metadata": {
    "execution": {
     "iopub.execute_input": "2025-07-29T16:34:23.386991Z",
     "iopub.status.busy": "2025-07-29T16:34:23.386668Z",
     "iopub.status.idle": "2025-07-29T16:34:23.423883Z",
     "shell.execute_reply": "2025-07-29T16:34:23.422713Z"
    },
    "papermill": {
     "duration": 0.04936,
     "end_time": "2025-07-29T16:34:23.425474",
     "exception": false,
     "start_time": "2025-07-29T16:34:23.376114",
     "status": "completed"
    },
    "tags": []
   },
   "outputs": [
    {
     "data": {
      "text/html": [
       "<div>\n",
       "<style scoped>\n",
       "    .dataframe tbody tr th:only-of-type {\n",
       "        vertical-align: middle;\n",
       "    }\n",
       "\n",
       "    .dataframe tbody tr th {\n",
       "        vertical-align: top;\n",
       "    }\n",
       "\n",
       "    .dataframe thead th {\n",
       "        text-align: right;\n",
       "    }\n",
       "</style>\n",
       "<table border=\"1\" class=\"dataframe\">\n",
       "  <thead>\n",
       "    <tr style=\"text-align: right;\">\n",
       "      <th>rating</th>\n",
       "      <th>G</th>\n",
       "      <th>PG</th>\n",
       "      <th>PG-13</th>\n",
       "      <th>R</th>\n",
       "      <th>TV-14</th>\n",
       "      <th>TV-G</th>\n",
       "      <th>TV-MA</th>\n",
       "      <th>TV-PG</th>\n",
       "      <th>TV-Y</th>\n",
       "      <th>TV-Y7</th>\n",
       "    </tr>\n",
       "    <tr>\n",
       "      <th>cluster</th>\n",
       "      <th></th>\n",
       "      <th></th>\n",
       "      <th></th>\n",
       "      <th></th>\n",
       "      <th></th>\n",
       "      <th></th>\n",
       "      <th></th>\n",
       "      <th></th>\n",
       "      <th></th>\n",
       "      <th></th>\n",
       "    </tr>\n",
       "  </thead>\n",
       "  <tbody>\n",
       "    <tr>\n",
       "      <th>0</th>\n",
       "      <td>0.0</td>\n",
       "      <td>5.0</td>\n",
       "      <td>7.0</td>\n",
       "      <td>10.0</td>\n",
       "      <td>8.0</td>\n",
       "      <td>0.0</td>\n",
       "      <td>2.0</td>\n",
       "      <td>8.0</td>\n",
       "      <td>0.0</td>\n",
       "      <td>0.0</td>\n",
       "    </tr>\n",
       "    <tr>\n",
       "      <th>1</th>\n",
       "      <td>0.0</td>\n",
       "      <td>0.0</td>\n",
       "      <td>0.0</td>\n",
       "      <td>0.0</td>\n",
       "      <td>11.0</td>\n",
       "      <td>2.0</td>\n",
       "      <td>31.0</td>\n",
       "      <td>2.0</td>\n",
       "      <td>0.0</td>\n",
       "      <td>0.0</td>\n",
       "    </tr>\n",
       "    <tr>\n",
       "      <th>2</th>\n",
       "      <td>0.0</td>\n",
       "      <td>0.0</td>\n",
       "      <td>0.0</td>\n",
       "      <td>0.0</td>\n",
       "      <td>0.0</td>\n",
       "      <td>2.0</td>\n",
       "      <td>0.0</td>\n",
       "      <td>6.0</td>\n",
       "      <td>8.0</td>\n",
       "      <td>12.0</td>\n",
       "    </tr>\n",
       "    <tr>\n",
       "      <th>3</th>\n",
       "      <td>1.0</td>\n",
       "      <td>2.0</td>\n",
       "      <td>7.0</td>\n",
       "      <td>5.0</td>\n",
       "      <td>5.0</td>\n",
       "      <td>0.0</td>\n",
       "      <td>8.0</td>\n",
       "      <td>0.0</td>\n",
       "      <td>0.0</td>\n",
       "      <td>0.0</td>\n",
       "    </tr>\n",
       "    <tr>\n",
       "      <th>4</th>\n",
       "      <td>0.0</td>\n",
       "      <td>6.0</td>\n",
       "      <td>14.0</td>\n",
       "      <td>8.0</td>\n",
       "      <td>10.0</td>\n",
       "      <td>1.0</td>\n",
       "      <td>9.0</td>\n",
       "      <td>6.0</td>\n",
       "      <td>2.0</td>\n",
       "      <td>2.0</td>\n",
       "    </tr>\n",
       "  </tbody>\n",
       "</table>\n",
       "</div>"
      ],
      "text/plain": [
       "rating     G   PG  PG-13     R  TV-14  TV-G  TV-MA  TV-PG  TV-Y  TV-Y7\n",
       "cluster                                                               \n",
       "0        0.0  5.0    7.0  10.0    8.0   0.0    2.0    8.0   0.0    0.0\n",
       "1        0.0  0.0    0.0   0.0   11.0   2.0   31.0    2.0   0.0    0.0\n",
       "2        0.0  0.0    0.0   0.0    0.0   2.0    0.0    6.0   8.0   12.0\n",
       "3        1.0  2.0    7.0   5.0    5.0   0.0    8.0    0.0   0.0    0.0\n",
       "4        0.0  6.0   14.0   8.0   10.0   1.0    9.0    6.0   2.0    2.0"
      ]
     },
     "execution_count": 21,
     "metadata": {},
     "output_type": "execute_result"
    }
   ],
   "source": [
    "# View cluster summaries\n",
    "df.groupby('cluster')[['release_year', 'duration_int']].mean()\n",
    "\n",
    "# Or check counts by type/rating per cluster\n",
    "df.groupby(['cluster', 'type']).size().unstack().fillna(0)\n",
    "df.groupby(['cluster', 'rating']).size().unstack().fillna(0)\n"
   ]
  }
 ],
 "metadata": {
  "kaggle": {
   "accelerator": "none",
   "dataSources": [
    {
     "datasetId": 7797322,
     "sourceId": 12366924,
     "sourceType": "datasetVersion"
    }
   ],
   "dockerImageVersionId": 31089,
   "isGpuEnabled": false,
   "isInternetEnabled": true,
   "language": "python",
   "sourceType": "notebook"
  },
  "kernelspec": {
   "display_name": "Python 3",
   "language": "python",
   "name": "python3"
  },
  "language_info": {
   "codemirror_mode": {
    "name": "ipython",
    "version": 3
   },
   "file_extension": ".py",
   "mimetype": "text/x-python",
   "name": "python",
   "nbconvert_exporter": "python",
   "pygments_lexer": "ipython3",
   "version": "3.11.13"
  },
  "papermill": {
   "default_parameters": {},
   "duration": 13.082432,
   "end_time": "2025-07-29T16:34:24.255875",
   "environment_variables": {},
   "exception": null,
   "input_path": "__notebook__.ipynb",
   "output_path": "__notebook__.ipynb",
   "parameters": {},
   "start_time": "2025-07-29T16:34:11.173443",
   "version": "2.6.0"
  }
 },
 "nbformat": 4,
 "nbformat_minor": 5
}
