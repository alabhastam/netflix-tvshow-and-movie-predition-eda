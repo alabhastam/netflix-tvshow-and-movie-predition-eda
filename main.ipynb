{
 "cells": [
  {
   "cell_type": "markdown",
   "id": "55c9c12e",
   "metadata": {
    "papermill": {
     "duration": 0.001919,
     "end_time": "2025-07-29T14:39:44.308230",
     "exception": false,
     "start_time": "2025-07-29T14:39:44.306311",
     "status": "completed"
    },
    "tags": []
   },
   "source": [
    "This script help me to find the path"
   ]
  },
  {
   "cell_type": "code",
   "execution_count": 1,
   "id": "037fcf1e",
   "metadata": {
    "_cell_guid": "b1076dfc-b9ad-4769-8c92-a6c4dae69d19",
    "_uuid": "8f2839f25d086af736a60e9eeb907d3b93b6e0e5",
    "execution": {
     "iopub.execute_input": "2025-07-29T14:39:44.312796Z",
     "iopub.status.busy": "2025-07-29T14:39:44.312262Z",
     "iopub.status.idle": "2025-07-29T14:39:46.088857Z",
     "shell.execute_reply": "2025-07-29T14:39:46.087819Z"
    },
    "papermill": {
     "duration": 1.780862,
     "end_time": "2025-07-29T14:39:46.090649",
     "exception": false,
     "start_time": "2025-07-29T14:39:44.309787",
     "status": "completed"
    },
    "tags": []
   },
   "outputs": [
    {
     "name": "stdout",
     "output_type": "stream",
     "text": [
      "/kaggle/input/netflix-tv-shows-and-movies/Netflix.csv\n"
     ]
    }
   ],
   "source": [
    "# This Python 3 environment comes with many helpful analytics libraries installed\n",
    "# It is defined by the kaggle/python Docker image: https://github.com/kaggle/docker-python\n",
    "# For example, here's several helpful packages to load\n",
    "\n",
    "import numpy as np # linear algebra\n",
    "import pandas as pd # data processing, CSV file I/O (e.g. pd.read_csv)\n",
    "\n",
    "# Input data files are available in the read-only \"../input/\" directory\n",
    "# For example, running this (by clicking run or pressing Shift+Enter) will list all files under the input directory\n",
    "\n",
    "import os\n",
    "for dirname, _, filenames in os.walk('/kaggle/input'):\n",
    "    for filename in filenames:\n",
    "        print(os.path.join(dirname, filename))\n",
    "\n",
    "# You can write up to 20GB to the current directory (/kaggle/working/) that gets preserved as output when you create a version using \"Save & Run All\" \n",
    "# You can also write temporary files to /kaggle/temp/, but they won't be saved outside of the current session"
   ]
  },
  {
   "cell_type": "markdown",
   "id": "a2644a5f",
   "metadata": {
    "papermill": {
     "duration": 0.001445,
     "end_time": "2025-07-29T14:39:46.094012",
     "exception": false,
     "start_time": "2025-07-29T14:39:46.092567",
     "status": "completed"
    },
    "tags": []
   },
   "source": [
    "# Load and see data"
   ]
  },
  {
   "cell_type": "code",
   "execution_count": 2,
   "id": "229ac04a",
   "metadata": {
    "execution": {
     "iopub.execute_input": "2025-07-29T14:39:46.098713Z",
     "iopub.status.busy": "2025-07-29T14:39:46.098373Z",
     "iopub.status.idle": "2025-07-29T14:39:46.122771Z",
     "shell.execute_reply": "2025-07-29T14:39:46.121984Z"
    },
    "papermill": {
     "duration": 0.028134,
     "end_time": "2025-07-29T14:39:46.124198",
     "exception": false,
     "start_time": "2025-07-29T14:39:46.096064",
     "status": "completed"
    },
    "tags": []
   },
   "outputs": [],
   "source": [
    "import pandas as pd \n",
    "import numpy as np \n",
    "\n",
    "df = pd.read_csv(\"/kaggle/input/netflix-tv-shows-and-movies/Netflix.csv\")"
   ]
  }
 ],
 "metadata": {
  "kaggle": {
   "accelerator": "none",
   "dataSources": [
    {
     "datasetId": 7797322,
     "sourceId": 12366924,
     "sourceType": "datasetVersion"
    }
   ],
   "dockerImageVersionId": 31089,
   "isGpuEnabled": false,
   "isInternetEnabled": true,
   "language": "python",
   "sourceType": "notebook"
  },
  "kernelspec": {
   "display_name": "Python 3",
   "language": "python",
   "name": "python3"
  },
  "language_info": {
   "codemirror_mode": {
    "name": "ipython",
    "version": 3
   },
   "file_extension": ".py",
   "mimetype": "text/x-python",
   "name": "python",
   "nbconvert_exporter": "python",
   "pygments_lexer": "ipython3",
   "version": "3.11.13"
  },
  "papermill": {
   "default_parameters": {},
   "duration": 6.907242,
   "end_time": "2025-07-29T14:39:46.644534",
   "environment_variables": {},
   "exception": null,
   "input_path": "__notebook__.ipynb",
   "output_path": "__notebook__.ipynb",
   "parameters": {},
   "start_time": "2025-07-29T14:39:39.737292",
   "version": "2.6.0"
  }
 },
 "nbformat": 4,
 "nbformat_minor": 5
}
