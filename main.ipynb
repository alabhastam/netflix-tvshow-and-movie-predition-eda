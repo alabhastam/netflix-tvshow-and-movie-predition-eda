{
 "cells": [
  {
   "cell_type": "markdown",
   "id": "4a8dd162",
   "metadata": {
    "papermill": {
     "duration": 0.005689,
     "end_time": "2025-07-29T15:14:49.376334",
     "exception": false,
     "start_time": "2025-07-29T15:14:49.370645",
     "status": "completed"
    },
    "tags": []
   },
   "source": [
    "This script help me to find the path"
   ]
  },
  {
   "cell_type": "code",
   "execution_count": 1,
   "id": "0484f6b0",
   "metadata": {
    "_cell_guid": "b1076dfc-b9ad-4769-8c92-a6c4dae69d19",
    "_uuid": "8f2839f25d086af736a60e9eeb907d3b93b6e0e5",
    "execution": {
     "iopub.execute_input": "2025-07-29T15:14:49.387114Z",
     "iopub.status.busy": "2025-07-29T15:14:49.386721Z",
     "iopub.status.idle": "2025-07-29T15:14:51.331229Z",
     "shell.execute_reply": "2025-07-29T15:14:51.330090Z"
    },
    "papermill": {
     "duration": 1.952393,
     "end_time": "2025-07-29T15:14:51.333471",
     "exception": false,
     "start_time": "2025-07-29T15:14:49.381078",
     "status": "completed"
    },
    "tags": []
   },
   "outputs": [
    {
     "name": "stdout",
     "output_type": "stream",
     "text": [
      "/kaggle/input/netflix-tv-shows-and-movies/Netflix.csv\n"
     ]
    }
   ],
   "source": [
    "# This Python 3 environment comes with many helpful analytics libraries installed\n",
    "# It is defined by the kaggle/python Docker image: https://github.com/kaggle/docker-python\n",
    "# For example, here's several helpful packages to load\n",
    "\n",
    "import numpy as np # linear algebra\n",
    "import pandas as pd # data processing, CSV file I/O (e.g. pd.read_csv)\n",
    "\n",
    "# Input data files are available in the read-only \"../input/\" directory\n",
    "# For example, running this (by clicking run or pressing Shift+Enter) will list all files under the input directory\n",
    "\n",
    "import os\n",
    "for dirname, _, filenames in os.walk('/kaggle/input'):\n",
    "    for filename in filenames:\n",
    "        print(os.path.join(dirname, filename))\n",
    "\n",
    "# You can write up to 20GB to the current directory (/kaggle/working/) that gets preserved as output when you create a version using \"Save & Run All\" \n",
    "# You can also write temporary files to /kaggle/temp/, but they won't be saved outside of the current session"
   ]
  },
  {
   "cell_type": "markdown",
   "id": "85cf0de5",
   "metadata": {
    "papermill": {
     "duration": 0.005133,
     "end_time": "2025-07-29T15:14:51.343990",
     "exception": false,
     "start_time": "2025-07-29T15:14:51.338857",
     "status": "completed"
    },
    "tags": []
   },
   "source": [
    "# Load and see data"
   ]
  },
  {
   "cell_type": "code",
   "execution_count": 2,
   "id": "c15cfb85",
   "metadata": {
    "execution": {
     "iopub.execute_input": "2025-07-29T15:14:51.354941Z",
     "iopub.status.busy": "2025-07-29T15:14:51.354507Z",
     "iopub.status.idle": "2025-07-29T15:14:51.377588Z",
     "shell.execute_reply": "2025-07-29T15:14:51.376491Z"
    },
    "papermill": {
     "duration": 0.030765,
     "end_time": "2025-07-29T15:14:51.379367",
     "exception": false,
     "start_time": "2025-07-29T15:14:51.348602",
     "status": "completed"
    },
    "tags": []
   },
   "outputs": [],
   "source": [
    "import pandas as pd \n",
    "import numpy as np \n",
    "\n",
    "df = pd.read_csv(\"/kaggle/input/netflix-tv-shows-and-movies/Netflix.csv\")"
   ]
  },
  {
   "cell_type": "code",
   "execution_count": 3,
   "id": "056b5db7",
   "metadata": {
    "execution": {
     "iopub.execute_input": "2025-07-29T15:14:51.390079Z",
     "iopub.status.busy": "2025-07-29T15:14:51.389774Z",
     "iopub.status.idle": "2025-07-29T15:14:51.417448Z",
     "shell.execute_reply": "2025-07-29T15:14:51.416458Z"
    },
    "papermill": {
     "duration": 0.034661,
     "end_time": "2025-07-29T15:14:51.418966",
     "exception": false,
     "start_time": "2025-07-29T15:14:51.384305",
     "status": "completed"
    },
    "tags": []
   },
   "outputs": [
    {
     "data": {
      "text/html": [
       "<div>\n",
       "<style scoped>\n",
       "    .dataframe tbody tr th:only-of-type {\n",
       "        vertical-align: middle;\n",
       "    }\n",
       "\n",
       "    .dataframe tbody tr th {\n",
       "        vertical-align: top;\n",
       "    }\n",
       "\n",
       "    .dataframe thead th {\n",
       "        text-align: right;\n",
       "    }\n",
       "</style>\n",
       "<table border=\"1\" class=\"dataframe\">\n",
       "  <thead>\n",
       "    <tr style=\"text-align: right;\">\n",
       "      <th></th>\n",
       "      <th>show_id</th>\n",
       "      <th>type</th>\n",
       "      <th>title</th>\n",
       "      <th>director</th>\n",
       "      <th>cast</th>\n",
       "      <th>country</th>\n",
       "      <th>date_added</th>\n",
       "      <th>release_year</th>\n",
       "      <th>rating</th>\n",
       "      <th>duration</th>\n",
       "      <th>listed_in</th>\n",
       "      <th>description</th>\n",
       "    </tr>\n",
       "  </thead>\n",
       "  <tbody>\n",
       "    <tr>\n",
       "      <th>0</th>\n",
       "      <td>s1</td>\n",
       "      <td>Movie</td>\n",
       "      <td>Dick Johnson Is Dead</td>\n",
       "      <td>Kirsten Johnson</td>\n",
       "      <td>NaN</td>\n",
       "      <td>United States</td>\n",
       "      <td>25-Sep-21</td>\n",
       "      <td>2020</td>\n",
       "      <td>PG-13</td>\n",
       "      <td>90 min</td>\n",
       "      <td>Documentaries</td>\n",
       "      <td>As her father nears the end of his life, filmm...</td>\n",
       "    </tr>\n",
       "    <tr>\n",
       "      <th>1</th>\n",
       "      <td>s2</td>\n",
       "      <td>TV Show</td>\n",
       "      <td>Blood &amp; Water</td>\n",
       "      <td>NaN</td>\n",
       "      <td>Ama Qamata, Khosi Ngema, Gail Mabalane, Thaban...</td>\n",
       "      <td>South Africa</td>\n",
       "      <td>24-Sep-21</td>\n",
       "      <td>2021</td>\n",
       "      <td>TV-MA</td>\n",
       "      <td>2 Seasons</td>\n",
       "      <td>International TV Shows, TV Dramas, TV Mysteries</td>\n",
       "      <td>After crossing paths at a party, a Cape Town t...</td>\n",
       "    </tr>\n",
       "    <tr>\n",
       "      <th>2</th>\n",
       "      <td>s3</td>\n",
       "      <td>TV Show</td>\n",
       "      <td>Ganglands</td>\n",
       "      <td>Julien Leclercq</td>\n",
       "      <td>Sami Bouajila, Tracy Gotoas, Samuel Jouy, Nabi...</td>\n",
       "      <td>NaN</td>\n",
       "      <td>24-Sep-21</td>\n",
       "      <td>2021</td>\n",
       "      <td>TV-MA</td>\n",
       "      <td>1 Season</td>\n",
       "      <td>Crime TV Shows, International TV Shows, TV Act...</td>\n",
       "      <td>To protect his family from a powerful drug lor...</td>\n",
       "    </tr>\n",
       "    <tr>\n",
       "      <th>3</th>\n",
       "      <td>s4</td>\n",
       "      <td>TV Show</td>\n",
       "      <td>Jailbirds New Orleans</td>\n",
       "      <td>NaN</td>\n",
       "      <td>NaN</td>\n",
       "      <td>NaN</td>\n",
       "      <td>24-Sep-21</td>\n",
       "      <td>2021</td>\n",
       "      <td>TV-MA</td>\n",
       "      <td>1 Season</td>\n",
       "      <td>Docuseries, Reality TV</td>\n",
       "      <td>Feuds, flirtations and toilet talk go down amo...</td>\n",
       "    </tr>\n",
       "    <tr>\n",
       "      <th>4</th>\n",
       "      <td>s5</td>\n",
       "      <td>TV Show</td>\n",
       "      <td>Kota Factory</td>\n",
       "      <td>NaN</td>\n",
       "      <td>Mayur More, Jitendra Kumar, Ranjan Raj, Alam K...</td>\n",
       "      <td>India</td>\n",
       "      <td>24-Sep-21</td>\n",
       "      <td>2021</td>\n",
       "      <td>TV-MA</td>\n",
       "      <td>2 Seasons</td>\n",
       "      <td>International TV Shows, Romantic TV Shows, TV ...</td>\n",
       "      <td>In a city of coaching centers known to train I...</td>\n",
       "    </tr>\n",
       "  </tbody>\n",
       "</table>\n",
       "</div>"
      ],
      "text/plain": [
       "  show_id     type                  title         director  \\\n",
       "0      s1    Movie   Dick Johnson Is Dead  Kirsten Johnson   \n",
       "1      s2  TV Show          Blood & Water              NaN   \n",
       "2      s3  TV Show              Ganglands  Julien Leclercq   \n",
       "3      s4  TV Show  Jailbirds New Orleans              NaN   \n",
       "4      s5  TV Show           Kota Factory              NaN   \n",
       "\n",
       "                                                cast        country  \\\n",
       "0                                                NaN  United States   \n",
       "1  Ama Qamata, Khosi Ngema, Gail Mabalane, Thaban...   South Africa   \n",
       "2  Sami Bouajila, Tracy Gotoas, Samuel Jouy, Nabi...            NaN   \n",
       "3                                                NaN            NaN   \n",
       "4  Mayur More, Jitendra Kumar, Ranjan Raj, Alam K...          India   \n",
       "\n",
       "  date_added  release_year rating   duration  \\\n",
       "0  25-Sep-21          2020  PG-13     90 min   \n",
       "1  24-Sep-21          2021  TV-MA  2 Seasons   \n",
       "2  24-Sep-21          2021  TV-MA   1 Season   \n",
       "3  24-Sep-21          2021  TV-MA   1 Season   \n",
       "4  24-Sep-21          2021  TV-MA  2 Seasons   \n",
       "\n",
       "                                           listed_in  \\\n",
       "0                                      Documentaries   \n",
       "1    International TV Shows, TV Dramas, TV Mysteries   \n",
       "2  Crime TV Shows, International TV Shows, TV Act...   \n",
       "3                             Docuseries, Reality TV   \n",
       "4  International TV Shows, Romantic TV Shows, TV ...   \n",
       "\n",
       "                                         description  \n",
       "0  As her father nears the end of his life, filmm...  \n",
       "1  After crossing paths at a party, a Cape Town t...  \n",
       "2  To protect his family from a powerful drug lor...  \n",
       "3  Feuds, flirtations and toilet talk go down amo...  \n",
       "4  In a city of coaching centers known to train I...  "
      ]
     },
     "execution_count": 3,
     "metadata": {},
     "output_type": "execute_result"
    }
   ],
   "source": [
    "df.head()"
   ]
  },
  {
   "cell_type": "code",
   "execution_count": 4,
   "id": "7e7d8b8c",
   "metadata": {
    "execution": {
     "iopub.execute_input": "2025-07-29T15:14:51.430100Z",
     "iopub.status.busy": "2025-07-29T15:14:51.429800Z",
     "iopub.status.idle": "2025-07-29T15:14:51.456615Z",
     "shell.execute_reply": "2025-07-29T15:14:51.454847Z"
    },
    "papermill": {
     "duration": 0.034828,
     "end_time": "2025-07-29T15:14:51.458857",
     "exception": false,
     "start_time": "2025-07-29T15:14:51.424029",
     "status": "completed"
    },
    "tags": []
   },
   "outputs": [
    {
     "name": "stdout",
     "output_type": "stream",
     "text": [
      "<class 'pandas.core.frame.DataFrame'>\n",
      "RangeIndex: 200 entries, 0 to 199\n",
      "Data columns (total 12 columns):\n",
      " #   Column        Non-Null Count  Dtype \n",
      "---  ------        --------------  ----- \n",
      " 0   show_id       200 non-null    object\n",
      " 1   type          200 non-null    object\n",
      " 2   title         200 non-null    object\n",
      " 3   director      137 non-null    object\n",
      " 4   cast          180 non-null    object\n",
      " 5   country       136 non-null    object\n",
      " 6   date_added    200 non-null    object\n",
      " 7   release_year  200 non-null    int64 \n",
      " 8   rating        200 non-null    object\n",
      " 9   duration      200 non-null    object\n",
      " 10  listed_in     200 non-null    object\n",
      " 11  description   200 non-null    object\n",
      "dtypes: int64(1), object(11)\n",
      "memory usage: 18.9+ KB\n"
     ]
    }
   ],
   "source": [
    "df.info()"
   ]
  },
  {
   "cell_type": "code",
   "execution_count": 5,
   "id": "80928e95",
   "metadata": {
    "execution": {
     "iopub.execute_input": "2025-07-29T15:14:51.471518Z",
     "iopub.status.busy": "2025-07-29T15:14:51.470340Z",
     "iopub.status.idle": "2025-07-29T15:14:51.508692Z",
     "shell.execute_reply": "2025-07-29T15:14:51.507588Z"
    },
    "papermill": {
     "duration": 0.046365,
     "end_time": "2025-07-29T15:14:51.510279",
     "exception": false,
     "start_time": "2025-07-29T15:14:51.463914",
     "status": "completed"
    },
    "tags": []
   },
   "outputs": [
    {
     "name": "stderr",
     "output_type": "stream",
     "text": [
      "/usr/local/lib/python3.11/dist-packages/pandas/io/formats/format.py:1458: RuntimeWarning: invalid value encountered in greater\n",
      "  has_large_values = (abs_vals > 1e6).any()\n",
      "/usr/local/lib/python3.11/dist-packages/pandas/io/formats/format.py:1459: RuntimeWarning: invalid value encountered in less\n",
      "  has_small_values = ((abs_vals < 10 ** (-self.digits)) & (abs_vals > 0)).any()\n",
      "/usr/local/lib/python3.11/dist-packages/pandas/io/formats/format.py:1459: RuntimeWarning: invalid value encountered in greater\n",
      "  has_small_values = ((abs_vals < 10 ** (-self.digits)) & (abs_vals > 0)).any()\n"
     ]
    },
    {
     "data": {
      "text/html": [
       "<div>\n",
       "<style scoped>\n",
       "    .dataframe tbody tr th:only-of-type {\n",
       "        vertical-align: middle;\n",
       "    }\n",
       "\n",
       "    .dataframe tbody tr th {\n",
       "        vertical-align: top;\n",
       "    }\n",
       "\n",
       "    .dataframe thead th {\n",
       "        text-align: right;\n",
       "    }\n",
       "</style>\n",
       "<table border=\"1\" class=\"dataframe\">\n",
       "  <thead>\n",
       "    <tr style=\"text-align: right;\">\n",
       "      <th></th>\n",
       "      <th>show_id</th>\n",
       "      <th>type</th>\n",
       "      <th>title</th>\n",
       "      <th>director</th>\n",
       "      <th>cast</th>\n",
       "      <th>country</th>\n",
       "      <th>date_added</th>\n",
       "      <th>release_year</th>\n",
       "      <th>rating</th>\n",
       "      <th>duration</th>\n",
       "      <th>listed_in</th>\n",
       "      <th>description</th>\n",
       "    </tr>\n",
       "  </thead>\n",
       "  <tbody>\n",
       "    <tr>\n",
       "      <th>count</th>\n",
       "      <td>200</td>\n",
       "      <td>200</td>\n",
       "      <td>200</td>\n",
       "      <td>137</td>\n",
       "      <td>180</td>\n",
       "      <td>136</td>\n",
       "      <td>200</td>\n",
       "      <td>200.000000</td>\n",
       "      <td>200</td>\n",
       "      <td>200</td>\n",
       "      <td>200</td>\n",
       "      <td>200</td>\n",
       "    </tr>\n",
       "    <tr>\n",
       "      <th>unique</th>\n",
       "      <td>200</td>\n",
       "      <td>2</td>\n",
       "      <td>200</td>\n",
       "      <td>123</td>\n",
       "      <td>179</td>\n",
       "      <td>44</td>\n",
       "      <td>26</td>\n",
       "      <td>NaN</td>\n",
       "      <td>10</td>\n",
       "      <td>71</td>\n",
       "      <td>97</td>\n",
       "      <td>199</td>\n",
       "    </tr>\n",
       "    <tr>\n",
       "      <th>top</th>\n",
       "      <td>s1</td>\n",
       "      <td>Movie</td>\n",
       "      <td>Dick Johnson Is Dead</td>\n",
       "      <td>Toshiya Shinohara</td>\n",
       "      <td>Vijay Sethupathi, Parthiban, Raashi Khanna</td>\n",
       "      <td>United States</td>\n",
       "      <td>1-Sep-21</td>\n",
       "      <td>NaN</td>\n",
       "      <td>TV-MA</td>\n",
       "      <td>1 Season</td>\n",
       "      <td>Action &amp; Adventure, Anime Features, Internatio...</td>\n",
       "      <td>A budding politician has devious plans to rise...</td>\n",
       "    </tr>\n",
       "    <tr>\n",
       "      <th>freq</th>\n",
       "      <td>1</td>\n",
       "      <td>127</td>\n",
       "      <td>1</td>\n",
       "      <td>4</td>\n",
       "      <td>2</td>\n",
       "      <td>50</td>\n",
       "      <td>56</td>\n",
       "      <td>NaN</td>\n",
       "      <td>50</td>\n",
       "      <td>43</td>\n",
       "      <td>12</td>\n",
       "      <td>2</td>\n",
       "    </tr>\n",
       "    <tr>\n",
       "      <th>mean</th>\n",
       "      <td>NaN</td>\n",
       "      <td>NaN</td>\n",
       "      <td>NaN</td>\n",
       "      <td>NaN</td>\n",
       "      <td>NaN</td>\n",
       "      <td>NaN</td>\n",
       "      <td>NaN</td>\n",
       "      <td>2012.230000</td>\n",
       "      <td>NaN</td>\n",
       "      <td>NaN</td>\n",
       "      <td>NaN</td>\n",
       "      <td>NaN</td>\n",
       "    </tr>\n",
       "    <tr>\n",
       "      <th>std</th>\n",
       "      <td>NaN</td>\n",
       "      <td>NaN</td>\n",
       "      <td>NaN</td>\n",
       "      <td>NaN</td>\n",
       "      <td>NaN</td>\n",
       "      <td>NaN</td>\n",
       "      <td>NaN</td>\n",
       "      <td>11.609089</td>\n",
       "      <td>NaN</td>\n",
       "      <td>NaN</td>\n",
       "      <td>NaN</td>\n",
       "      <td>NaN</td>\n",
       "    </tr>\n",
       "    <tr>\n",
       "      <th>min</th>\n",
       "      <td>NaN</td>\n",
       "      <td>NaN</td>\n",
       "      <td>NaN</td>\n",
       "      <td>NaN</td>\n",
       "      <td>NaN</td>\n",
       "      <td>NaN</td>\n",
       "      <td>NaN</td>\n",
       "      <td>1961.000000</td>\n",
       "      <td>NaN</td>\n",
       "      <td>NaN</td>\n",
       "      <td>NaN</td>\n",
       "      <td>NaN</td>\n",
       "    </tr>\n",
       "    <tr>\n",
       "      <th>25%</th>\n",
       "      <td>NaN</td>\n",
       "      <td>NaN</td>\n",
       "      <td>NaN</td>\n",
       "      <td>NaN</td>\n",
       "      <td>NaN</td>\n",
       "      <td>NaN</td>\n",
       "      <td>NaN</td>\n",
       "      <td>2005.750000</td>\n",
       "      <td>NaN</td>\n",
       "      <td>NaN</td>\n",
       "      <td>NaN</td>\n",
       "      <td>NaN</td>\n",
       "    </tr>\n",
       "    <tr>\n",
       "      <th>50%</th>\n",
       "      <td>NaN</td>\n",
       "      <td>NaN</td>\n",
       "      <td>NaN</td>\n",
       "      <td>NaN</td>\n",
       "      <td>NaN</td>\n",
       "      <td>NaN</td>\n",
       "      <td>NaN</td>\n",
       "      <td>2018.000000</td>\n",
       "      <td>NaN</td>\n",
       "      <td>NaN</td>\n",
       "      <td>NaN</td>\n",
       "      <td>NaN</td>\n",
       "    </tr>\n",
       "    <tr>\n",
       "      <th>75%</th>\n",
       "      <td>NaN</td>\n",
       "      <td>NaN</td>\n",
       "      <td>NaN</td>\n",
       "      <td>NaN</td>\n",
       "      <td>NaN</td>\n",
       "      <td>NaN</td>\n",
       "      <td>NaN</td>\n",
       "      <td>2021.000000</td>\n",
       "      <td>NaN</td>\n",
       "      <td>NaN</td>\n",
       "      <td>NaN</td>\n",
       "      <td>NaN</td>\n",
       "    </tr>\n",
       "    <tr>\n",
       "      <th>max</th>\n",
       "      <td>NaN</td>\n",
       "      <td>NaN</td>\n",
       "      <td>NaN</td>\n",
       "      <td>NaN</td>\n",
       "      <td>NaN</td>\n",
       "      <td>NaN</td>\n",
       "      <td>NaN</td>\n",
       "      <td>2021.000000</td>\n",
       "      <td>NaN</td>\n",
       "      <td>NaN</td>\n",
       "      <td>NaN</td>\n",
       "      <td>NaN</td>\n",
       "    </tr>\n",
       "  </tbody>\n",
       "</table>\n",
       "</div>"
      ],
      "text/plain": [
       "       show_id   type                 title           director  \\\n",
       "count      200    200                   200                137   \n",
       "unique     200      2                   200                123   \n",
       "top         s1  Movie  Dick Johnson Is Dead  Toshiya Shinohara   \n",
       "freq         1    127                     1                  4   \n",
       "mean       NaN    NaN                   NaN                NaN   \n",
       "std        NaN    NaN                   NaN                NaN   \n",
       "min        NaN    NaN                   NaN                NaN   \n",
       "25%        NaN    NaN                   NaN                NaN   \n",
       "50%        NaN    NaN                   NaN                NaN   \n",
       "75%        NaN    NaN                   NaN                NaN   \n",
       "max        NaN    NaN                   NaN                NaN   \n",
       "\n",
       "                                              cast        country date_added  \\\n",
       "count                                          180            136        200   \n",
       "unique                                         179             44         26   \n",
       "top     Vijay Sethupathi, Parthiban, Raashi Khanna  United States   1-Sep-21   \n",
       "freq                                             2             50         56   \n",
       "mean                                           NaN            NaN        NaN   \n",
       "std                                            NaN            NaN        NaN   \n",
       "min                                            NaN            NaN        NaN   \n",
       "25%                                            NaN            NaN        NaN   \n",
       "50%                                            NaN            NaN        NaN   \n",
       "75%                                            NaN            NaN        NaN   \n",
       "max                                            NaN            NaN        NaN   \n",
       "\n",
       "        release_year rating  duration  \\\n",
       "count     200.000000    200       200   \n",
       "unique           NaN     10        71   \n",
       "top              NaN  TV-MA  1 Season   \n",
       "freq             NaN     50        43   \n",
       "mean     2012.230000    NaN       NaN   \n",
       "std        11.609089    NaN       NaN   \n",
       "min      1961.000000    NaN       NaN   \n",
       "25%      2005.750000    NaN       NaN   \n",
       "50%      2018.000000    NaN       NaN   \n",
       "75%      2021.000000    NaN       NaN   \n",
       "max      2021.000000    NaN       NaN   \n",
       "\n",
       "                                                listed_in  \\\n",
       "count                                                 200   \n",
       "unique                                                 97   \n",
       "top     Action & Adventure, Anime Features, Internatio...   \n",
       "freq                                                   12   \n",
       "mean                                                  NaN   \n",
       "std                                                   NaN   \n",
       "min                                                   NaN   \n",
       "25%                                                   NaN   \n",
       "50%                                                   NaN   \n",
       "75%                                                   NaN   \n",
       "max                                                   NaN   \n",
       "\n",
       "                                              description  \n",
       "count                                                 200  \n",
       "unique                                                199  \n",
       "top     A budding politician has devious plans to rise...  \n",
       "freq                                                    2  \n",
       "mean                                                  NaN  \n",
       "std                                                   NaN  \n",
       "min                                                   NaN  \n",
       "25%                                                   NaN  \n",
       "50%                                                   NaN  \n",
       "75%                                                   NaN  \n",
       "max                                                   NaN  "
      ]
     },
     "execution_count": 5,
     "metadata": {},
     "output_type": "execute_result"
    }
   ],
   "source": [
    "df.describe(include=\"all\")"
   ]
  },
  {
   "cell_type": "code",
   "execution_count": 6,
   "id": "9ec03a06",
   "metadata": {
    "execution": {
     "iopub.execute_input": "2025-07-29T15:14:51.523481Z",
     "iopub.status.busy": "2025-07-29T15:14:51.522732Z",
     "iopub.status.idle": "2025-07-29T15:14:51.528503Z",
     "shell.execute_reply": "2025-07-29T15:14:51.527639Z"
    },
    "papermill": {
     "duration": 0.013327,
     "end_time": "2025-07-29T15:14:51.529989",
     "exception": false,
     "start_time": "2025-07-29T15:14:51.516662",
     "status": "completed"
    },
    "tags": []
   },
   "outputs": [
    {
     "data": {
      "text/plain": [
       "(200, 12)"
      ]
     },
     "execution_count": 6,
     "metadata": {},
     "output_type": "execute_result"
    }
   ],
   "source": [
    "df.shape"
   ]
  },
  {
   "cell_type": "markdown",
   "id": "b47dbb37",
   "metadata": {
    "papermill": {
     "duration": 0.005112,
     "end_time": "2025-07-29T15:14:51.540557",
     "exception": false,
     "start_time": "2025-07-29T15:14:51.535445",
     "status": "completed"
    },
    "tags": []
   },
   "source": [
    "I can tell you only 200 records is not enough "
   ]
  },
  {
   "cell_type": "markdown",
   "id": "dd8d3f7c",
   "metadata": {
    "papermill": {
     "duration": 0.004847,
     "end_time": "2025-07-29T15:14:51.550601",
     "exception": false,
     "start_time": "2025-07-29T15:14:51.545754",
     "status": "completed"
    },
    "tags": []
   },
   "source": [
    "# Data Cleaning"
   ]
  },
  {
   "cell_type": "code",
   "execution_count": 7,
   "id": "39f16e6c",
   "metadata": {
    "execution": {
     "iopub.execute_input": "2025-07-29T15:14:51.562257Z",
     "iopub.status.busy": "2025-07-29T15:14:51.561933Z",
     "iopub.status.idle": "2025-07-29T15:14:51.568623Z",
     "shell.execute_reply": "2025-07-29T15:14:51.567393Z"
    },
    "papermill": {
     "duration": 0.014517,
     "end_time": "2025-07-29T15:14:51.570285",
     "exception": false,
     "start_time": "2025-07-29T15:14:51.555768",
     "status": "completed"
    },
    "tags": []
   },
   "outputs": [
    {
     "name": "stdout",
     "output_type": "stream",
     "text": [
      "show_id          0\n",
      "type             0\n",
      "title            0\n",
      "director        63\n",
      "cast            20\n",
      "country         64\n",
      "date_added       0\n",
      "release_year     0\n",
      "rating           0\n",
      "duration         0\n",
      "listed_in        0\n",
      "description      0\n",
      "dtype: int64\n"
     ]
    }
   ],
   "source": [
    "missing_values = df.isna().sum()\n",
    "print(missing_values)"
   ]
  },
  {
   "cell_type": "markdown",
   "id": "dca80891",
   "metadata": {
    "papermill": {
     "duration": 0.005459,
     "end_time": "2025-07-29T15:14:51.581817",
     "exception": false,
     "start_time": "2025-07-29T15:14:51.576358",
     "status": "completed"
    },
    "tags": []
   },
   "source": [
    "cast, director and country have a lot of null value. We can not just drop them because they consist large portion of the data"
   ]
  },
  {
   "cell_type": "code",
   "execution_count": 8,
   "id": "a3f513a6",
   "metadata": {
    "execution": {
     "iopub.execute_input": "2025-07-29T15:14:51.593800Z",
     "iopub.status.busy": "2025-07-29T15:14:51.593499Z",
     "iopub.status.idle": "2025-07-29T15:14:51.599822Z",
     "shell.execute_reply": "2025-07-29T15:14:51.599007Z"
    },
    "papermill": {
     "duration": 0.014037,
     "end_time": "2025-07-29T15:14:51.601232",
     "exception": false,
     "start_time": "2025-07-29T15:14:51.587195",
     "status": "completed"
    },
    "tags": []
   },
   "outputs": [],
   "source": [
    "df.fillna({\n",
    "  'director': 'Unknown',\n",
    "  'cast': 'Unknown',\n",
    "  'country': 'Unknown'\n",
    "}, inplace=True)"
   ]
  },
  {
   "cell_type": "markdown",
   "id": "529f1211",
   "metadata": {
    "papermill": {
     "duration": 0.004973,
     "end_time": "2025-07-29T15:14:51.611586",
     "exception": false,
     "start_time": "2025-07-29T15:14:51.606613",
     "status": "completed"
    },
    "tags": []
   },
   "source": [
    "For easier workflow, We convert date column to this. "
   ]
  },
  {
   "cell_type": "code",
   "execution_count": 9,
   "id": "123557a2",
   "metadata": {
    "execution": {
     "iopub.execute_input": "2025-07-29T15:14:51.623291Z",
     "iopub.status.busy": "2025-07-29T15:14:51.622975Z",
     "iopub.status.idle": "2025-07-29T15:14:51.637434Z",
     "shell.execute_reply": "2025-07-29T15:14:51.636537Z"
    },
    "papermill": {
     "duration": 0.021999,
     "end_time": "2025-07-29T15:14:51.638821",
     "exception": false,
     "start_time": "2025-07-29T15:14:51.616822",
     "status": "completed"
    },
    "tags": []
   },
   "outputs": [
    {
     "name": "stderr",
     "output_type": "stream",
     "text": [
      "/tmp/ipykernel_13/1161208757.py:1: UserWarning: Could not infer format, so each element will be parsed individually, falling back to `dateutil`. To ensure parsing is consistent and as-expected, please specify a format.\n",
      "  df['date_added'] = pd.to_datetime(df['date_added'])\n"
     ]
    }
   ],
   "source": [
    "df['date_added'] = pd.to_datetime(df['date_added'])\n",
    "df['year_added'] = df['date_added'].dt.year\n",
    "df['month_added'] = df['date_added'].dt.month_name()\n"
   ]
  },
  {
   "cell_type": "markdown",
   "id": "a780c21b",
   "metadata": {
    "papermill": {
     "duration": 0.005016,
     "end_time": "2025-07-29T15:14:51.649348",
     "exception": false,
     "start_time": "2025-07-29T15:14:51.644332",
     "status": "completed"
    },
    "tags": []
   },
   "source": [
    "Parsing duration cleanly"
   ]
  },
  {
   "cell_type": "code",
   "execution_count": 10,
   "id": "adfa6290",
   "metadata": {
    "execution": {
     "iopub.execute_input": "2025-07-29T15:14:51.661258Z",
     "iopub.status.busy": "2025-07-29T15:14:51.660969Z",
     "iopub.status.idle": "2025-07-29T15:14:51.667395Z",
     "shell.execute_reply": "2025-07-29T15:14:51.666644Z"
    },
    "papermill": {
     "duration": 0.013958,
     "end_time": "2025-07-29T15:14:51.668743",
     "exception": false,
     "start_time": "2025-07-29T15:14:51.654785",
     "status": "completed"
    },
    "tags": []
   },
   "outputs": [],
   "source": [
    "df['duration_int'] = df['duration'].str.extract('(\\d+)').astype(int)\n"
   ]
  },
  {
   "cell_type": "code",
   "execution_count": 11,
   "id": "f1104c8a",
   "metadata": {
    "execution": {
     "iopub.execute_input": "2025-07-29T15:14:51.681548Z",
     "iopub.status.busy": "2025-07-29T15:14:51.681227Z",
     "iopub.status.idle": "2025-07-29T15:14:51.695059Z",
     "shell.execute_reply": "2025-07-29T15:14:51.694237Z"
    },
    "papermill": {
     "duration": 0.022242,
     "end_time": "2025-07-29T15:14:51.696693",
     "exception": false,
     "start_time": "2025-07-29T15:14:51.674451",
     "status": "completed"
    },
    "tags": []
   },
   "outputs": [
    {
     "data": {
      "text/html": [
       "<div>\n",
       "<style scoped>\n",
       "    .dataframe tbody tr th:only-of-type {\n",
       "        vertical-align: middle;\n",
       "    }\n",
       "\n",
       "    .dataframe tbody tr th {\n",
       "        vertical-align: top;\n",
       "    }\n",
       "\n",
       "    .dataframe thead th {\n",
       "        text-align: right;\n",
       "    }\n",
       "</style>\n",
       "<table border=\"1\" class=\"dataframe\">\n",
       "  <thead>\n",
       "    <tr style=\"text-align: right;\">\n",
       "      <th></th>\n",
       "      <th>show_id</th>\n",
       "      <th>type</th>\n",
       "      <th>title</th>\n",
       "      <th>director</th>\n",
       "      <th>cast</th>\n",
       "      <th>country</th>\n",
       "      <th>date_added</th>\n",
       "      <th>release_year</th>\n",
       "      <th>rating</th>\n",
       "      <th>duration</th>\n",
       "      <th>listed_in</th>\n",
       "      <th>description</th>\n",
       "      <th>year_added</th>\n",
       "      <th>month_added</th>\n",
       "      <th>duration_int</th>\n",
       "    </tr>\n",
       "  </thead>\n",
       "  <tbody>\n",
       "    <tr>\n",
       "      <th>0</th>\n",
       "      <td>s1</td>\n",
       "      <td>Movie</td>\n",
       "      <td>Dick Johnson Is Dead</td>\n",
       "      <td>Kirsten Johnson</td>\n",
       "      <td>Unknown</td>\n",
       "      <td>United States</td>\n",
       "      <td>2021-09-25</td>\n",
       "      <td>2020</td>\n",
       "      <td>PG-13</td>\n",
       "      <td>90 min</td>\n",
       "      <td>Documentaries</td>\n",
       "      <td>As her father nears the end of his life, filmm...</td>\n",
       "      <td>2021</td>\n",
       "      <td>September</td>\n",
       "      <td>90</td>\n",
       "    </tr>\n",
       "    <tr>\n",
       "      <th>1</th>\n",
       "      <td>s2</td>\n",
       "      <td>TV Show</td>\n",
       "      <td>Blood &amp; Water</td>\n",
       "      <td>Unknown</td>\n",
       "      <td>Ama Qamata, Khosi Ngema, Gail Mabalane, Thaban...</td>\n",
       "      <td>South Africa</td>\n",
       "      <td>2021-09-24</td>\n",
       "      <td>2021</td>\n",
       "      <td>TV-MA</td>\n",
       "      <td>2 Seasons</td>\n",
       "      <td>International TV Shows, TV Dramas, TV Mysteries</td>\n",
       "      <td>After crossing paths at a party, a Cape Town t...</td>\n",
       "      <td>2021</td>\n",
       "      <td>September</td>\n",
       "      <td>2</td>\n",
       "    </tr>\n",
       "    <tr>\n",
       "      <th>2</th>\n",
       "      <td>s3</td>\n",
       "      <td>TV Show</td>\n",
       "      <td>Ganglands</td>\n",
       "      <td>Julien Leclercq</td>\n",
       "      <td>Sami Bouajila, Tracy Gotoas, Samuel Jouy, Nabi...</td>\n",
       "      <td>Unknown</td>\n",
       "      <td>2021-09-24</td>\n",
       "      <td>2021</td>\n",
       "      <td>TV-MA</td>\n",
       "      <td>1 Season</td>\n",
       "      <td>Crime TV Shows, International TV Shows, TV Act...</td>\n",
       "      <td>To protect his family from a powerful drug lor...</td>\n",
       "      <td>2021</td>\n",
       "      <td>September</td>\n",
       "      <td>1</td>\n",
       "    </tr>\n",
       "    <tr>\n",
       "      <th>3</th>\n",
       "      <td>s4</td>\n",
       "      <td>TV Show</td>\n",
       "      <td>Jailbirds New Orleans</td>\n",
       "      <td>Unknown</td>\n",
       "      <td>Unknown</td>\n",
       "      <td>Unknown</td>\n",
       "      <td>2021-09-24</td>\n",
       "      <td>2021</td>\n",
       "      <td>TV-MA</td>\n",
       "      <td>1 Season</td>\n",
       "      <td>Docuseries, Reality TV</td>\n",
       "      <td>Feuds, flirtations and toilet talk go down amo...</td>\n",
       "      <td>2021</td>\n",
       "      <td>September</td>\n",
       "      <td>1</td>\n",
       "    </tr>\n",
       "    <tr>\n",
       "      <th>4</th>\n",
       "      <td>s5</td>\n",
       "      <td>TV Show</td>\n",
       "      <td>Kota Factory</td>\n",
       "      <td>Unknown</td>\n",
       "      <td>Mayur More, Jitendra Kumar, Ranjan Raj, Alam K...</td>\n",
       "      <td>India</td>\n",
       "      <td>2021-09-24</td>\n",
       "      <td>2021</td>\n",
       "      <td>TV-MA</td>\n",
       "      <td>2 Seasons</td>\n",
       "      <td>International TV Shows, Romantic TV Shows, TV ...</td>\n",
       "      <td>In a city of coaching centers known to train I...</td>\n",
       "      <td>2021</td>\n",
       "      <td>September</td>\n",
       "      <td>2</td>\n",
       "    </tr>\n",
       "  </tbody>\n",
       "</table>\n",
       "</div>"
      ],
      "text/plain": [
       "  show_id     type                  title         director  \\\n",
       "0      s1    Movie   Dick Johnson Is Dead  Kirsten Johnson   \n",
       "1      s2  TV Show          Blood & Water          Unknown   \n",
       "2      s3  TV Show              Ganglands  Julien Leclercq   \n",
       "3      s4  TV Show  Jailbirds New Orleans          Unknown   \n",
       "4      s5  TV Show           Kota Factory          Unknown   \n",
       "\n",
       "                                                cast        country  \\\n",
       "0                                            Unknown  United States   \n",
       "1  Ama Qamata, Khosi Ngema, Gail Mabalane, Thaban...   South Africa   \n",
       "2  Sami Bouajila, Tracy Gotoas, Samuel Jouy, Nabi...        Unknown   \n",
       "3                                            Unknown        Unknown   \n",
       "4  Mayur More, Jitendra Kumar, Ranjan Raj, Alam K...          India   \n",
       "\n",
       "  date_added  release_year rating   duration  \\\n",
       "0 2021-09-25          2020  PG-13     90 min   \n",
       "1 2021-09-24          2021  TV-MA  2 Seasons   \n",
       "2 2021-09-24          2021  TV-MA   1 Season   \n",
       "3 2021-09-24          2021  TV-MA   1 Season   \n",
       "4 2021-09-24          2021  TV-MA  2 Seasons   \n",
       "\n",
       "                                           listed_in  \\\n",
       "0                                      Documentaries   \n",
       "1    International TV Shows, TV Dramas, TV Mysteries   \n",
       "2  Crime TV Shows, International TV Shows, TV Act...   \n",
       "3                             Docuseries, Reality TV   \n",
       "4  International TV Shows, Romantic TV Shows, TV ...   \n",
       "\n",
       "                                         description  year_added month_added  \\\n",
       "0  As her father nears the end of his life, filmm...        2021   September   \n",
       "1  After crossing paths at a party, a Cape Town t...        2021   September   \n",
       "2  To protect his family from a powerful drug lor...        2021   September   \n",
       "3  Feuds, flirtations and toilet talk go down amo...        2021   September   \n",
       "4  In a city of coaching centers known to train I...        2021   September   \n",
       "\n",
       "   duration_int  \n",
       "0            90  \n",
       "1             2  \n",
       "2             1  \n",
       "3             1  \n",
       "4             2  "
      ]
     },
     "execution_count": 11,
     "metadata": {},
     "output_type": "execute_result"
    }
   ],
   "source": [
    "df.head()"
   ]
  },
  {
   "cell_type": "markdown",
   "id": "a3ebf754",
   "metadata": {
    "papermill": {
     "duration": 0.005417,
     "end_time": "2025-07-29T15:14:51.708058",
     "exception": false,
     "start_time": "2025-07-29T15:14:51.702641",
     "status": "completed"
    },
    "tags": []
   },
   "source": [
    "# EDA"
   ]
  },
  {
   "cell_type": "code",
   "execution_count": 12,
   "id": "98e0ff05",
   "metadata": {
    "execution": {
     "iopub.execute_input": "2025-07-29T15:14:51.720254Z",
     "iopub.status.busy": "2025-07-29T15:14:51.719962Z",
     "iopub.status.idle": "2025-07-29T15:14:53.997973Z",
     "shell.execute_reply": "2025-07-29T15:14:53.997102Z"
    },
    "papermill": {
     "duration": 2.286085,
     "end_time": "2025-07-29T15:14:53.999635",
     "exception": false,
     "start_time": "2025-07-29T15:14:51.713550",
     "status": "completed"
    },
    "tags": []
   },
   "outputs": [
    {
     "data": {
      "text/plain": [
       "<Axes: xlabel='type', ylabel='count'>"
      ]
     },
     "execution_count": 12,
     "metadata": {},
     "output_type": "execute_result"
    },
    {
     "data": {
      "image/png": "[encoded data removed]",
      "text/plain": [
       "<Figure size 640x480 with 1 Axes>"
      ]
     },
     "metadata": {},
     "output_type": "display_data"
    }
   ],
   "source": [
    "import seaborn as sns\n",
    "import matplotlib.pyplot as plt\n",
    "\n",
    "sns.countplot(data=df, x='type')\n"
   ]
  },
  {
   "cell_type": "markdown",
   "id": "c655135d",
   "metadata": {
    "papermill": {
     "duration": 0.005768,
     "end_time": "2025-07-29T15:14:54.011675",
     "exception": false,
     "start_time": "2025-07-29T15:14:54.005907",
     "status": "completed"
    },
    "tags": []
   },
   "source": [
    "Most of the data are Movies"
   ]
  },
  {
   "cell_type": "code",
   "execution_count": 13,
   "id": "6cd9682c",
   "metadata": {
    "execution": {
     "iopub.execute_input": "2025-07-29T15:14:54.024870Z",
     "iopub.status.busy": "2025-07-29T15:14:54.024443Z",
     "iopub.status.idle": "2025-07-29T15:14:54.265329Z",
     "shell.execute_reply": "2025-07-29T15:14:54.264454Z"
    },
    "papermill": {
     "duration": 0.24953,
     "end_time": "2025-07-29T15:14:54.267093",
     "exception": false,
     "start_time": "2025-07-29T15:14:54.017563",
     "status": "completed"
    },
    "tags": []
   },
   "outputs": [
    {
     "data": {
      "text/plain": [
       "Text(0.5, 1.0, 'Number of titles added per year on Netflix')"
      ]
     },
     "execution_count": 13,
     "metadata": {},
     "output_type": "execute_result"
    },
    {
     "data": {
      "image/png": "[encoded data removed]",
      "text/plain": [
       "<Figure size 640x480 with 1 Axes>"
      ]
     },
     "metadata": {},
     "output_type": "display_data"
    }
   ],
   "source": [
    "yearly = df.groupby('year_added').size()\n",
    "yearly.plot(kind='bar')\n",
    "plt.title(\"Number of titles added per year on Netflix\")\n"
   ]
  },
  {
   "cell_type": "markdown",
   "id": "8d4b8925",
   "metadata": {
    "papermill": {
     "duration": 0.01099,
     "end_time": "2025-07-29T15:14:54.289956",
     "exception": false,
     "start_time": "2025-07-29T15:14:54.278966",
     "status": "completed"
    },
    "tags": []
   },
   "source": [
    "Only 2021 data . "
   ]
  },
  {
   "cell_type": "code",
   "execution_count": 14,
   "id": "4658772f",
   "metadata": {
    "execution": {
     "iopub.execute_input": "2025-07-29T15:14:54.310205Z",
     "iopub.status.busy": "2025-07-29T15:14:54.309293Z",
     "iopub.status.idle": "2025-07-29T15:14:54.321058Z",
     "shell.execute_reply": "2025-07-29T15:14:54.320074Z"
    },
    "papermill": {
     "duration": 0.021471,
     "end_time": "2025-07-29T15:14:54.322797",
     "exception": false,
     "start_time": "2025-07-29T15:14:54.301326",
     "status": "completed"
    },
    "tags": []
   },
   "outputs": [
    {
     "data": {
      "text/plain": [
       "listed_in\n",
       "Dramas                    45\n",
       "International Movies      42\n",
       "Comedies                  41\n",
       "Action & Adventure        40\n",
       "International TV Shows    31\n",
       "Kids' TV                  22\n",
       "TV Comedies               20\n",
       "Thrillers                 17\n",
       "TV Dramas                 16\n",
       "Romantic Movies           15\n",
       "Name: count, dtype: int64"
      ]
     },
     "execution_count": 14,
     "metadata": {},
     "output_type": "execute_result"
    }
   ],
   "source": [
    "#most frequnt genres\n",
    "genres = df['listed_in'].str.split(', ').explode()\n",
    "genres.value_counts().head(10)\n"
   ]
  },
  {
   "cell_type": "code",
   "execution_count": 15,
   "id": "7961f571",
   "metadata": {
    "execution": {
     "iopub.execute_input": "2025-07-29T15:14:54.337257Z",
     "iopub.status.busy": "2025-07-29T15:14:54.336965Z",
     "iopub.status.idle": "2025-07-29T15:14:54.594757Z",
     "shell.execute_reply": "2025-07-29T15:14:54.593925Z"
    },
    "papermill": {
     "duration": 0.266611,
     "end_time": "2025-07-29T15:14:54.596194",
     "exception": false,
     "start_time": "2025-07-29T15:14:54.329583",
     "status": "completed"
    },
    "tags": []
   },
   "outputs": [
    {
     "data": {
      "text/plain": [
       "<Axes: xlabel='rating', ylabel='count'>"
      ]
     },
     "execution_count": 15,
     "metadata": {},
     "output_type": "execute_result"
    },
    {
     "data": {
      "image/png": "[encoded data removed]",
      "text/plain": [
       "<Figure size 640x480 with 1 Axes>"
      ]
     },
     "metadata": {},
     "output_type": "display_data"
    }
   ],
   "source": [
    "#rating\n",
    "sns.countplot(data=df, x='rating', hue='type')\n"
   ]
  },
  {
   "cell_type": "markdown",
   "id": "82f81a37",
   "metadata": {
    "papermill": {
     "duration": 0.006373,
     "end_time": "2025-07-29T15:14:54.609576",
     "exception": false,
     "start_time": "2025-07-29T15:14:54.603203",
     "status": "completed"
    },
    "tags": []
   },
   "source": [
    "pg-13 , TV-MA , PG are the most frequent."
   ]
  },
  {
   "cell_type": "markdown",
   "id": "eb48e198",
   "metadata": {
    "papermill": {
     "duration": 0.006294,
     "end_time": "2025-07-29T15:14:54.622449",
     "exception": false,
     "start_time": "2025-07-29T15:14:54.616155",
     "status": "completed"
    },
    "tags": []
   },
   "source": [
    "# Clustering / Content similarity"
   ]
  },
  {
   "cell_type": "markdown",
   "id": "75dc2f93",
   "metadata": {
    "papermill": {
     "duration": 0.006509,
     "end_time": "2025-07-29T15:14:54.635561",
     "exception": false,
     "start_time": "2025-07-29T15:14:54.629052",
     "status": "completed"
    },
    "tags": []
   },
   "source": [
    "We need to choose our best option for Clustering with Kmeans. \n",
    "then lets see what do we have "
   ]
  },
  {
   "cell_type": "code",
   "execution_count": 16,
   "id": "ec2878c2",
   "metadata": {
    "execution": {
     "iopub.execute_input": "2025-07-29T15:14:54.650227Z",
     "iopub.status.busy": "2025-07-29T15:14:54.649543Z",
     "iopub.status.idle": "2025-07-29T15:14:54.655098Z",
     "shell.execute_reply": "2025-07-29T15:14:54.654417Z"
    },
    "papermill": {
     "duration": 0.014393,
     "end_time": "2025-07-29T15:14:54.656485",
     "exception": false,
     "start_time": "2025-07-29T15:14:54.642092",
     "status": "completed"
    },
    "tags": []
   },
   "outputs": [
    {
     "data": {
      "text/plain": [
       "['show_id',\n",
       " 'type',\n",
       " 'title',\n",
       " 'director',\n",
       " 'cast',\n",
       " 'country',\n",
       " 'date_added',\n",
       " 'release_year',\n",
       " 'rating',\n",
       " 'duration',\n",
       " 'listed_in',\n",
       " 'description',\n",
       " 'year_added',\n",
       " 'month_added',\n",
       " 'duration_int']"
      ]
     },
     "execution_count": 16,
     "metadata": {},
     "output_type": "execute_result"
    }
   ],
   "source": [
    "list(df.columns)"
   ]
  }
 ],
 "metadata": {
  "kaggle": {
   "accelerator": "none",
   "dataSources": [
    {
     "datasetId": 7797322,
     "sourceId": 12366924,
     "sourceType": "datasetVersion"
    }
   ],
   "dockerImageVersionId": 31089,
   "isGpuEnabled": false,
   "isInternetEnabled": true,
   "language": "python",
   "sourceType": "notebook"
  },
  "kernelspec": {
   "display_name": "Python 3",
   "language": "python",
   "name": "python3"
  },
  "language_info": {
   "codemirror_mode": {
    "name": "ipython",
    "version": 3
   },
   "file_extension": ".py",
   "mimetype": "text/x-python",
   "name": "python",
   "nbconvert_exporter": "python",
   "pygments_lexer": "ipython3",
   "version": "3.11.13"
  },
  "papermill": {
   "default_parameters": {},
   "duration": 10.977858,
   "end_time": "2025-07-29T15:14:55.383342",
   "environment_variables": {},
   "exception": null,
   "input_path": "__notebook__.ipynb",
   "output_path": "__notebook__.ipynb",
   "parameters": {},
   "start_time": "2025-07-29T15:14:44.405484",
   "version": "2.6.0"
  }
 },
 "nbformat": 4,
 "nbformat_minor": 5
}
